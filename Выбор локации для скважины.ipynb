{
 "cells": [
  {
   "cell_type": "markdown",
   "metadata": {},
   "source": [
    "# Выбор локации для скважины"
   ]
  },
  {
   "cell_type": "markdown",
   "metadata": {},
   "source": [
    "## Загрузка и подготовка данных"
   ]
  },
  {
   "cell_type": "code",
   "execution_count": 1,
   "metadata": {},
   "outputs": [],
   "source": [
    "# Импорт библиотек.\n",
    "import pandas as pd\n",
    "import numpy as np\n",
    "import matplotlib.pyplot as plt\n",
    "import plotly.express as px\n",
    "import seaborn as sns\n",
    "from sklearn.model_selection import train_test_split # деление на 2 выборки\n",
    "from sklearn.preprocessing import StandardScaler # для масштабирования количественных признаков\n",
    "from sklearn.metrics import mean_squared_error # для расчета MSE и RMSE\n",
    "from sklearn.linear_model import LinearRegression # линейная регрессия\n",
    "from scipy import stats as st # для доверительного интервала"
   ]
  },
  {
   "cell_type": "code",
   "execution_count": 2,
   "metadata": {
    "scrolled": false
   },
   "outputs": [
    {
     "data": {
      "text/html": [
       "<div>\n",
       "<style scoped>\n",
       "    .dataframe tbody tr th:only-of-type {\n",
       "        vertical-align: middle;\n",
       "    }\n",
       "\n",
       "    .dataframe tbody tr th {\n",
       "        vertical-align: top;\n",
       "    }\n",
       "\n",
       "    .dataframe thead th {\n",
       "        text-align: right;\n",
       "    }\n",
       "</style>\n",
       "<table border=\"1\" class=\"dataframe\">\n",
       "  <thead>\n",
       "    <tr style=\"text-align: right;\">\n",
       "      <th></th>\n",
       "      <th>id</th>\n",
       "      <th>f0</th>\n",
       "      <th>f1</th>\n",
       "      <th>f2</th>\n",
       "      <th>product</th>\n",
       "    </tr>\n",
       "  </thead>\n",
       "  <tbody>\n",
       "    <tr>\n",
       "      <td>0</td>\n",
       "      <td>txEyH</td>\n",
       "      <td>0.705745</td>\n",
       "      <td>-0.497823</td>\n",
       "      <td>1.221170</td>\n",
       "      <td>105.280062</td>\n",
       "    </tr>\n",
       "    <tr>\n",
       "      <td>1</td>\n",
       "      <td>2acmU</td>\n",
       "      <td>1.334711</td>\n",
       "      <td>-0.340164</td>\n",
       "      <td>4.365080</td>\n",
       "      <td>73.037750</td>\n",
       "    </tr>\n",
       "    <tr>\n",
       "      <td>2</td>\n",
       "      <td>409Wp</td>\n",
       "      <td>1.022732</td>\n",
       "      <td>0.151990</td>\n",
       "      <td>1.419926</td>\n",
       "      <td>85.265647</td>\n",
       "    </tr>\n",
       "    <tr>\n",
       "      <td>3</td>\n",
       "      <td>iJLyR</td>\n",
       "      <td>-0.032172</td>\n",
       "      <td>0.139033</td>\n",
       "      <td>2.978566</td>\n",
       "      <td>168.620776</td>\n",
       "    </tr>\n",
       "    <tr>\n",
       "      <td>4</td>\n",
       "      <td>Xdl7t</td>\n",
       "      <td>1.988431</td>\n",
       "      <td>0.155413</td>\n",
       "      <td>4.751769</td>\n",
       "      <td>154.036647</td>\n",
       "    </tr>\n",
       "  </tbody>\n",
       "</table>\n",
       "</div>"
      ],
      "text/plain": [
       "      id        f0        f1        f2     product\n",
       "0  txEyH  0.705745 -0.497823  1.221170  105.280062\n",
       "1  2acmU  1.334711 -0.340164  4.365080   73.037750\n",
       "2  409Wp  1.022732  0.151990  1.419926   85.265647\n",
       "3  iJLyR -0.032172  0.139033  2.978566  168.620776\n",
       "4  Xdl7t  1.988431  0.155413  4.751769  154.036647"
      ]
     },
     "metadata": {},
     "output_type": "display_data"
    },
    {
     "data": {
      "text/html": [
       "<div>\n",
       "<style scoped>\n",
       "    .dataframe tbody tr th:only-of-type {\n",
       "        vertical-align: middle;\n",
       "    }\n",
       "\n",
       "    .dataframe tbody tr th {\n",
       "        vertical-align: top;\n",
       "    }\n",
       "\n",
       "    .dataframe thead th {\n",
       "        text-align: right;\n",
       "    }\n",
       "</style>\n",
       "<table border=\"1\" class=\"dataframe\">\n",
       "  <thead>\n",
       "    <tr style=\"text-align: right;\">\n",
       "      <th></th>\n",
       "      <th>id</th>\n",
       "      <th>f0</th>\n",
       "      <th>f1</th>\n",
       "      <th>f2</th>\n",
       "      <th>product</th>\n",
       "    </tr>\n",
       "  </thead>\n",
       "  <tbody>\n",
       "    <tr>\n",
       "      <td>0</td>\n",
       "      <td>kBEdx</td>\n",
       "      <td>-15.001348</td>\n",
       "      <td>-8.276000</td>\n",
       "      <td>-0.005876</td>\n",
       "      <td>3.179103</td>\n",
       "    </tr>\n",
       "    <tr>\n",
       "      <td>1</td>\n",
       "      <td>62mP7</td>\n",
       "      <td>14.272088</td>\n",
       "      <td>-3.475083</td>\n",
       "      <td>0.999183</td>\n",
       "      <td>26.953261</td>\n",
       "    </tr>\n",
       "    <tr>\n",
       "      <td>2</td>\n",
       "      <td>vyE1P</td>\n",
       "      <td>6.263187</td>\n",
       "      <td>-5.948386</td>\n",
       "      <td>5.001160</td>\n",
       "      <td>134.766305</td>\n",
       "    </tr>\n",
       "    <tr>\n",
       "      <td>3</td>\n",
       "      <td>KcrkZ</td>\n",
       "      <td>-13.081196</td>\n",
       "      <td>-11.506057</td>\n",
       "      <td>4.999415</td>\n",
       "      <td>137.945408</td>\n",
       "    </tr>\n",
       "    <tr>\n",
       "      <td>4</td>\n",
       "      <td>AHL4O</td>\n",
       "      <td>12.702195</td>\n",
       "      <td>-8.147433</td>\n",
       "      <td>5.004363</td>\n",
       "      <td>134.766305</td>\n",
       "    </tr>\n",
       "  </tbody>\n",
       "</table>\n",
       "</div>"
      ],
      "text/plain": [
       "      id         f0         f1        f2     product\n",
       "0  kBEdx -15.001348  -8.276000 -0.005876    3.179103\n",
       "1  62mP7  14.272088  -3.475083  0.999183   26.953261\n",
       "2  vyE1P   6.263187  -5.948386  5.001160  134.766305\n",
       "3  KcrkZ -13.081196 -11.506057  4.999415  137.945408\n",
       "4  AHL4O  12.702195  -8.147433  5.004363  134.766305"
      ]
     },
     "metadata": {},
     "output_type": "display_data"
    },
    {
     "data": {
      "text/html": [
       "<div>\n",
       "<style scoped>\n",
       "    .dataframe tbody tr th:only-of-type {\n",
       "        vertical-align: middle;\n",
       "    }\n",
       "\n",
       "    .dataframe tbody tr th {\n",
       "        vertical-align: top;\n",
       "    }\n",
       "\n",
       "    .dataframe thead th {\n",
       "        text-align: right;\n",
       "    }\n",
       "</style>\n",
       "<table border=\"1\" class=\"dataframe\">\n",
       "  <thead>\n",
       "    <tr style=\"text-align: right;\">\n",
       "      <th></th>\n",
       "      <th>id</th>\n",
       "      <th>f0</th>\n",
       "      <th>f1</th>\n",
       "      <th>f2</th>\n",
       "      <th>product</th>\n",
       "    </tr>\n",
       "  </thead>\n",
       "  <tbody>\n",
       "    <tr>\n",
       "      <td>0</td>\n",
       "      <td>fwXo0</td>\n",
       "      <td>-1.146987</td>\n",
       "      <td>0.963328</td>\n",
       "      <td>-0.828965</td>\n",
       "      <td>27.758673</td>\n",
       "    </tr>\n",
       "    <tr>\n",
       "      <td>1</td>\n",
       "      <td>WJtFt</td>\n",
       "      <td>0.262778</td>\n",
       "      <td>0.269839</td>\n",
       "      <td>-2.530187</td>\n",
       "      <td>56.069697</td>\n",
       "    </tr>\n",
       "    <tr>\n",
       "      <td>2</td>\n",
       "      <td>ovLUW</td>\n",
       "      <td>0.194587</td>\n",
       "      <td>0.289035</td>\n",
       "      <td>-5.586433</td>\n",
       "      <td>62.871910</td>\n",
       "    </tr>\n",
       "    <tr>\n",
       "      <td>3</td>\n",
       "      <td>q6cA6</td>\n",
       "      <td>2.236060</td>\n",
       "      <td>-0.553760</td>\n",
       "      <td>0.930038</td>\n",
       "      <td>114.572842</td>\n",
       "    </tr>\n",
       "    <tr>\n",
       "      <td>4</td>\n",
       "      <td>WPMUX</td>\n",
       "      <td>-0.515993</td>\n",
       "      <td>1.716266</td>\n",
       "      <td>5.899011</td>\n",
       "      <td>149.600746</td>\n",
       "    </tr>\n",
       "  </tbody>\n",
       "</table>\n",
       "</div>"
      ],
      "text/plain": [
       "      id        f0        f1        f2     product\n",
       "0  fwXo0 -1.146987  0.963328 -0.828965   27.758673\n",
       "1  WJtFt  0.262778  0.269839 -2.530187   56.069697\n",
       "2  ovLUW  0.194587  0.289035 -5.586433   62.871910\n",
       "3  q6cA6  2.236060 -0.553760  0.930038  114.572842\n",
       "4  WPMUX -0.515993  1.716266  5.899011  149.600746"
      ]
     },
     "metadata": {},
     "output_type": "display_data"
    }
   ],
   "source": [
    "# Чтение файлов с данными и сохранение в датасеты.\n",
    "geo_data_0 = pd.read_csv('/datasets/geo_data_0.csv', sep=',')\n",
    "geo_data_1 = pd.read_csv('/datasets/geo_data_1.csv', sep=',')\n",
    "geo_data_2 = pd.read_csv('/datasets/geo_data_2.csv', sep=',')\n",
    "\n",
    "# Получение первых 5 строк датасетов\n",
    "display(geo_data_0.head())\n",
    "display(geo_data_1.head())\n",
    "display(geo_data_2.head())"
   ]
  },
  {
   "cell_type": "code",
   "execution_count": 3,
   "metadata": {},
   "outputs": [
    {
     "name": "stdout",
     "output_type": "stream",
     "text": [
      "<class 'pandas.core.frame.DataFrame'>\n",
      "RangeIndex: 100000 entries, 0 to 99999\n",
      "Data columns (total 5 columns):\n",
      "id         100000 non-null object\n",
      "f0         100000 non-null float64\n",
      "f1         100000 non-null float64\n",
      "f2         100000 non-null float64\n",
      "product    100000 non-null float64\n",
      "dtypes: float64(4), object(1)\n",
      "memory usage: 3.8+ MB\n",
      "None\n",
      "<class 'pandas.core.frame.DataFrame'>\n",
      "RangeIndex: 100000 entries, 0 to 99999\n",
      "Data columns (total 5 columns):\n",
      "id         100000 non-null object\n",
      "f0         100000 non-null float64\n",
      "f1         100000 non-null float64\n",
      "f2         100000 non-null float64\n",
      "product    100000 non-null float64\n",
      "dtypes: float64(4), object(1)\n",
      "memory usage: 3.8+ MB\n",
      "None\n",
      "<class 'pandas.core.frame.DataFrame'>\n",
      "RangeIndex: 100000 entries, 0 to 99999\n",
      "Data columns (total 5 columns):\n",
      "id         100000 non-null object\n",
      "f0         100000 non-null float64\n",
      "f1         100000 non-null float64\n",
      "f2         100000 non-null float64\n",
      "product    100000 non-null float64\n",
      "dtypes: float64(4), object(1)\n",
      "memory usage: 3.8+ MB\n",
      "None\n"
     ]
    }
   ],
   "source": [
    "# Получение общей информации о данных в датасетах\n",
    "print(geo_data_0.info())\n",
    "print(geo_data_1.info())\n",
    "print(geo_data_2.info())"
   ]
  },
  {
   "cell_type": "code",
   "execution_count": 4,
   "metadata": {},
   "outputs": [
    {
     "name": "stdout",
     "output_type": "stream",
     "text": [
      "0\n",
      "0\n",
      "0\n"
     ]
    }
   ],
   "source": [
    "# Проверим на наличие явных дубликатов\n",
    "print(geo_data_0.duplicated().sum())\n",
    "print(geo_data_1.duplicated().sum())\n",
    "print(geo_data_2.duplicated().sum())"
   ]
  },
  {
   "cell_type": "code",
   "execution_count": 5,
   "metadata": {
    "scrolled": false
   },
   "outputs": [
    {
     "data": {
      "text/html": [
       "<div>\n",
       "<style scoped>\n",
       "    .dataframe tbody tr th:only-of-type {\n",
       "        vertical-align: middle;\n",
       "    }\n",
       "\n",
       "    .dataframe tbody tr th {\n",
       "        vertical-align: top;\n",
       "    }\n",
       "\n",
       "    .dataframe thead th {\n",
       "        text-align: right;\n",
       "    }\n",
       "</style>\n",
       "<table border=\"1\" class=\"dataframe\">\n",
       "  <thead>\n",
       "    <tr style=\"text-align: right;\">\n",
       "      <th></th>\n",
       "      <th>f0</th>\n",
       "      <th>f1</th>\n",
       "      <th>f2</th>\n",
       "      <th>product</th>\n",
       "    </tr>\n",
       "  </thead>\n",
       "  <tbody>\n",
       "    <tr>\n",
       "      <td>count</td>\n",
       "      <td>100000.000000</td>\n",
       "      <td>100000.000000</td>\n",
       "      <td>100000.000000</td>\n",
       "      <td>100000.000000</td>\n",
       "    </tr>\n",
       "    <tr>\n",
       "      <td>mean</td>\n",
       "      <td>0.500419</td>\n",
       "      <td>0.250143</td>\n",
       "      <td>2.502647</td>\n",
       "      <td>92.500000</td>\n",
       "    </tr>\n",
       "    <tr>\n",
       "      <td>std</td>\n",
       "      <td>0.871832</td>\n",
       "      <td>0.504433</td>\n",
       "      <td>3.248248</td>\n",
       "      <td>44.288691</td>\n",
       "    </tr>\n",
       "    <tr>\n",
       "      <td>min</td>\n",
       "      <td>-1.408605</td>\n",
       "      <td>-0.848218</td>\n",
       "      <td>-12.088328</td>\n",
       "      <td>0.000000</td>\n",
       "    </tr>\n",
       "    <tr>\n",
       "      <td>25%</td>\n",
       "      <td>-0.072580</td>\n",
       "      <td>-0.200881</td>\n",
       "      <td>0.287748</td>\n",
       "      <td>56.497507</td>\n",
       "    </tr>\n",
       "    <tr>\n",
       "      <td>50%</td>\n",
       "      <td>0.502360</td>\n",
       "      <td>0.250252</td>\n",
       "      <td>2.515969</td>\n",
       "      <td>91.849972</td>\n",
       "    </tr>\n",
       "    <tr>\n",
       "      <td>75%</td>\n",
       "      <td>1.073581</td>\n",
       "      <td>0.700646</td>\n",
       "      <td>4.715088</td>\n",
       "      <td>128.564089</td>\n",
       "    </tr>\n",
       "    <tr>\n",
       "      <td>max</td>\n",
       "      <td>2.362331</td>\n",
       "      <td>1.343769</td>\n",
       "      <td>16.003790</td>\n",
       "      <td>185.364347</td>\n",
       "    </tr>\n",
       "  </tbody>\n",
       "</table>\n",
       "</div>"
      ],
      "text/plain": [
       "                  f0             f1             f2        product\n",
       "count  100000.000000  100000.000000  100000.000000  100000.000000\n",
       "mean        0.500419       0.250143       2.502647      92.500000\n",
       "std         0.871832       0.504433       3.248248      44.288691\n",
       "min        -1.408605      -0.848218     -12.088328       0.000000\n",
       "25%        -0.072580      -0.200881       0.287748      56.497507\n",
       "50%         0.502360       0.250252       2.515969      91.849972\n",
       "75%         1.073581       0.700646       4.715088     128.564089\n",
       "max         2.362331       1.343769      16.003790     185.364347"
      ]
     },
     "metadata": {},
     "output_type": "display_data"
    },
    {
     "data": {
      "text/html": [
       "<div>\n",
       "<style scoped>\n",
       "    .dataframe tbody tr th:only-of-type {\n",
       "        vertical-align: middle;\n",
       "    }\n",
       "\n",
       "    .dataframe tbody tr th {\n",
       "        vertical-align: top;\n",
       "    }\n",
       "\n",
       "    .dataframe thead th {\n",
       "        text-align: right;\n",
       "    }\n",
       "</style>\n",
       "<table border=\"1\" class=\"dataframe\">\n",
       "  <thead>\n",
       "    <tr style=\"text-align: right;\">\n",
       "      <th></th>\n",
       "      <th>f0</th>\n",
       "      <th>f1</th>\n",
       "      <th>f2</th>\n",
       "      <th>product</th>\n",
       "    </tr>\n",
       "  </thead>\n",
       "  <tbody>\n",
       "    <tr>\n",
       "      <td>count</td>\n",
       "      <td>100000.000000</td>\n",
       "      <td>100000.000000</td>\n",
       "      <td>100000.000000</td>\n",
       "      <td>100000.000000</td>\n",
       "    </tr>\n",
       "    <tr>\n",
       "      <td>mean</td>\n",
       "      <td>1.141296</td>\n",
       "      <td>-4.796579</td>\n",
       "      <td>2.494541</td>\n",
       "      <td>68.825000</td>\n",
       "    </tr>\n",
       "    <tr>\n",
       "      <td>std</td>\n",
       "      <td>8.965932</td>\n",
       "      <td>5.119872</td>\n",
       "      <td>1.703572</td>\n",
       "      <td>45.944423</td>\n",
       "    </tr>\n",
       "    <tr>\n",
       "      <td>min</td>\n",
       "      <td>-31.609576</td>\n",
       "      <td>-26.358598</td>\n",
       "      <td>-0.018144</td>\n",
       "      <td>0.000000</td>\n",
       "    </tr>\n",
       "    <tr>\n",
       "      <td>25%</td>\n",
       "      <td>-6.298551</td>\n",
       "      <td>-8.267985</td>\n",
       "      <td>1.000021</td>\n",
       "      <td>26.953261</td>\n",
       "    </tr>\n",
       "    <tr>\n",
       "      <td>50%</td>\n",
       "      <td>1.153055</td>\n",
       "      <td>-4.813172</td>\n",
       "      <td>2.011479</td>\n",
       "      <td>57.085625</td>\n",
       "    </tr>\n",
       "    <tr>\n",
       "      <td>75%</td>\n",
       "      <td>8.621015</td>\n",
       "      <td>-1.332816</td>\n",
       "      <td>3.999904</td>\n",
       "      <td>107.813044</td>\n",
       "    </tr>\n",
       "    <tr>\n",
       "      <td>max</td>\n",
       "      <td>29.421755</td>\n",
       "      <td>18.734063</td>\n",
       "      <td>5.019721</td>\n",
       "      <td>137.945408</td>\n",
       "    </tr>\n",
       "  </tbody>\n",
       "</table>\n",
       "</div>"
      ],
      "text/plain": [
       "                  f0             f1             f2        product\n",
       "count  100000.000000  100000.000000  100000.000000  100000.000000\n",
       "mean        1.141296      -4.796579       2.494541      68.825000\n",
       "std         8.965932       5.119872       1.703572      45.944423\n",
       "min       -31.609576     -26.358598      -0.018144       0.000000\n",
       "25%        -6.298551      -8.267985       1.000021      26.953261\n",
       "50%         1.153055      -4.813172       2.011479      57.085625\n",
       "75%         8.621015      -1.332816       3.999904     107.813044\n",
       "max        29.421755      18.734063       5.019721     137.945408"
      ]
     },
     "metadata": {},
     "output_type": "display_data"
    },
    {
     "data": {
      "text/html": [
       "<div>\n",
       "<style scoped>\n",
       "    .dataframe tbody tr th:only-of-type {\n",
       "        vertical-align: middle;\n",
       "    }\n",
       "\n",
       "    .dataframe tbody tr th {\n",
       "        vertical-align: top;\n",
       "    }\n",
       "\n",
       "    .dataframe thead th {\n",
       "        text-align: right;\n",
       "    }\n",
       "</style>\n",
       "<table border=\"1\" class=\"dataframe\">\n",
       "  <thead>\n",
       "    <tr style=\"text-align: right;\">\n",
       "      <th></th>\n",
       "      <th>f0</th>\n",
       "      <th>f1</th>\n",
       "      <th>f2</th>\n",
       "      <th>product</th>\n",
       "    </tr>\n",
       "  </thead>\n",
       "  <tbody>\n",
       "    <tr>\n",
       "      <td>count</td>\n",
       "      <td>100000.000000</td>\n",
       "      <td>100000.000000</td>\n",
       "      <td>100000.000000</td>\n",
       "      <td>100000.000000</td>\n",
       "    </tr>\n",
       "    <tr>\n",
       "      <td>mean</td>\n",
       "      <td>0.002023</td>\n",
       "      <td>-0.002081</td>\n",
       "      <td>2.495128</td>\n",
       "      <td>95.000000</td>\n",
       "    </tr>\n",
       "    <tr>\n",
       "      <td>std</td>\n",
       "      <td>1.732045</td>\n",
       "      <td>1.730417</td>\n",
       "      <td>3.473445</td>\n",
       "      <td>44.749921</td>\n",
       "    </tr>\n",
       "    <tr>\n",
       "      <td>min</td>\n",
       "      <td>-8.760004</td>\n",
       "      <td>-7.084020</td>\n",
       "      <td>-11.970335</td>\n",
       "      <td>0.000000</td>\n",
       "    </tr>\n",
       "    <tr>\n",
       "      <td>25%</td>\n",
       "      <td>-1.162288</td>\n",
       "      <td>-1.174820</td>\n",
       "      <td>0.130359</td>\n",
       "      <td>59.450441</td>\n",
       "    </tr>\n",
       "    <tr>\n",
       "      <td>50%</td>\n",
       "      <td>0.009424</td>\n",
       "      <td>-0.009482</td>\n",
       "      <td>2.484236</td>\n",
       "      <td>94.925613</td>\n",
       "    </tr>\n",
       "    <tr>\n",
       "      <td>75%</td>\n",
       "      <td>1.158535</td>\n",
       "      <td>1.163678</td>\n",
       "      <td>4.858794</td>\n",
       "      <td>130.595027</td>\n",
       "    </tr>\n",
       "    <tr>\n",
       "      <td>max</td>\n",
       "      <td>7.238262</td>\n",
       "      <td>7.844801</td>\n",
       "      <td>16.739402</td>\n",
       "      <td>190.029838</td>\n",
       "    </tr>\n",
       "  </tbody>\n",
       "</table>\n",
       "</div>"
      ],
      "text/plain": [
       "                  f0             f1             f2        product\n",
       "count  100000.000000  100000.000000  100000.000000  100000.000000\n",
       "mean        0.002023      -0.002081       2.495128      95.000000\n",
       "std         1.732045       1.730417       3.473445      44.749921\n",
       "min        -8.760004      -7.084020     -11.970335       0.000000\n",
       "25%        -1.162288      -1.174820       0.130359      59.450441\n",
       "50%         0.009424      -0.009482       2.484236      94.925613\n",
       "75%         1.158535       1.163678       4.858794     130.595027\n",
       "max         7.238262       7.844801      16.739402     190.029838"
      ]
     },
     "metadata": {},
     "output_type": "display_data"
    }
   ],
   "source": [
    "# общие характеристики и проверка на наличие выбивающихся значений\n",
    "display(geo_data_0.describe())\n",
    "display(geo_data_1.describe())\n",
    "display(geo_data_2.describe())"
   ]
  },
  {
   "cell_type": "markdown",
   "metadata": {},
   "source": [
    "Согласно документации:\n",
    "- id — уникальный идентификатор скважины;\n",
    "- f0, f1, f2 — три признака точек (неважно, что они означают, но сами признаки значимы);\n",
    "- product — объём запасов в скважине (тыс. баррелей).\n",
    "Пропуски и дубликаты в датасетах отсутствуют. Для всех датасетов средние значения близки к медианным, значит значительных выбросов в данных нет. Посмотрим корреляцию признаков."
   ]
  },
  {
   "cell_type": "code",
   "execution_count": 6,
   "metadata": {},
   "outputs": [
    {
     "data": {
      "text/html": [
       "<div>\n",
       "<style scoped>\n",
       "    .dataframe tbody tr th:only-of-type {\n",
       "        vertical-align: middle;\n",
       "    }\n",
       "\n",
       "    .dataframe tbody tr th {\n",
       "        vertical-align: top;\n",
       "    }\n",
       "\n",
       "    .dataframe thead th {\n",
       "        text-align: right;\n",
       "    }\n",
       "</style>\n",
       "<table border=\"1\" class=\"dataframe\">\n",
       "  <thead>\n",
       "    <tr style=\"text-align: right;\">\n",
       "      <th></th>\n",
       "      <th>f0</th>\n",
       "      <th>f1</th>\n",
       "      <th>f2</th>\n",
       "      <th>product</th>\n",
       "    </tr>\n",
       "  </thead>\n",
       "  <tbody>\n",
       "    <tr>\n",
       "      <td>f0</td>\n",
       "      <td>1.000000</td>\n",
       "      <td>-0.440723</td>\n",
       "      <td>-0.003153</td>\n",
       "      <td>0.143536</td>\n",
       "    </tr>\n",
       "    <tr>\n",
       "      <td>f1</td>\n",
       "      <td>-0.440723</td>\n",
       "      <td>1.000000</td>\n",
       "      <td>0.001724</td>\n",
       "      <td>-0.192356</td>\n",
       "    </tr>\n",
       "    <tr>\n",
       "      <td>f2</td>\n",
       "      <td>-0.003153</td>\n",
       "      <td>0.001724</td>\n",
       "      <td>1.000000</td>\n",
       "      <td>0.483663</td>\n",
       "    </tr>\n",
       "    <tr>\n",
       "      <td>product</td>\n",
       "      <td>0.143536</td>\n",
       "      <td>-0.192356</td>\n",
       "      <td>0.483663</td>\n",
       "      <td>1.000000</td>\n",
       "    </tr>\n",
       "  </tbody>\n",
       "</table>\n",
       "</div>"
      ],
      "text/plain": [
       "               f0        f1        f2   product\n",
       "f0       1.000000 -0.440723 -0.003153  0.143536\n",
       "f1      -0.440723  1.000000  0.001724 -0.192356\n",
       "f2      -0.003153  0.001724  1.000000  0.483663\n",
       "product  0.143536 -0.192356  0.483663  1.000000"
      ]
     },
     "metadata": {},
     "output_type": "display_data"
    },
    {
     "data": {
      "text/plain": [
       "<matplotlib.axes._subplots.AxesSubplot at 0x7f0e9b15b510>"
      ]
     },
     "execution_count": 6,
     "metadata": {},
     "output_type": "execute_result"
    },
    {
     "data": {
      "image/png": "[encoded data removed]",
      "text/plain": [
       "<Figure size 504x504 with 2 Axes>"
      ]
     },
     "metadata": {
      "needs_background": "light"
     },
     "output_type": "display_data"
    }
   ],
   "source": [
    "# оценка корреляций признаков\n",
    "display(geo_data_0.corr())\n",
    "plt.rcParams['figure.figsize'] = (7.0, 7.0)\n",
    "sns.heatmap(geo_data_0.corr(), annot=True, linewidths=3, linecolor='white')"
   ]
  },
  {
   "cell_type": "code",
   "execution_count": 7,
   "metadata": {},
   "outputs": [
    {
     "data": {
      "text/html": [
       "<div>\n",
       "<style scoped>\n",
       "    .dataframe tbody tr th:only-of-type {\n",
       "        vertical-align: middle;\n",
       "    }\n",
       "\n",
       "    .dataframe tbody tr th {\n",
       "        vertical-align: top;\n",
       "    }\n",
       "\n",
       "    .dataframe thead th {\n",
       "        text-align: right;\n",
       "    }\n",
       "</style>\n",
       "<table border=\"1\" class=\"dataframe\">\n",
       "  <thead>\n",
       "    <tr style=\"text-align: right;\">\n",
       "      <th></th>\n",
       "      <th>f0</th>\n",
       "      <th>f1</th>\n",
       "      <th>f2</th>\n",
       "      <th>product</th>\n",
       "    </tr>\n",
       "  </thead>\n",
       "  <tbody>\n",
       "    <tr>\n",
       "      <td>f0</td>\n",
       "      <td>1.000000</td>\n",
       "      <td>0.182287</td>\n",
       "      <td>-0.001777</td>\n",
       "      <td>-0.030491</td>\n",
       "    </tr>\n",
       "    <tr>\n",
       "      <td>f1</td>\n",
       "      <td>0.182287</td>\n",
       "      <td>1.000000</td>\n",
       "      <td>-0.002595</td>\n",
       "      <td>-0.010155</td>\n",
       "    </tr>\n",
       "    <tr>\n",
       "      <td>f2</td>\n",
       "      <td>-0.001777</td>\n",
       "      <td>-0.002595</td>\n",
       "      <td>1.000000</td>\n",
       "      <td>0.999397</td>\n",
       "    </tr>\n",
       "    <tr>\n",
       "      <td>product</td>\n",
       "      <td>-0.030491</td>\n",
       "      <td>-0.010155</td>\n",
       "      <td>0.999397</td>\n",
       "      <td>1.000000</td>\n",
       "    </tr>\n",
       "  </tbody>\n",
       "</table>\n",
       "</div>"
      ],
      "text/plain": [
       "               f0        f1        f2   product\n",
       "f0       1.000000  0.182287 -0.001777 -0.030491\n",
       "f1       0.182287  1.000000 -0.002595 -0.010155\n",
       "f2      -0.001777 -0.002595  1.000000  0.999397\n",
       "product -0.030491 -0.010155  0.999397  1.000000"
      ]
     },
     "metadata": {},
     "output_type": "display_data"
    },
    {
     "data": {
      "text/plain": [
       "<matplotlib.axes._subplots.AxesSubplot at 0x7f0e9a944d50>"
      ]
     },
     "execution_count": 7,
     "metadata": {},
     "output_type": "execute_result"
    },
    {
     "data": {
      "image/png": "[encoded data removed]",
      "text/plain": [
       "<Figure size 504x504 with 2 Axes>"
      ]
     },
     "metadata": {
      "needs_background": "light"
     },
     "output_type": "display_data"
    }
   ],
   "source": [
    "# оценка корреляций признаков\n",
    "display(geo_data_1.corr())\n",
    "plt.rcParams['figure.figsize'] = (7.0, 7.0)\n",
    "sns.heatmap(geo_data_1.corr(), annot=True, linewidths=3, linecolor='white')"
   ]
  },
  {
   "cell_type": "code",
   "execution_count": 8,
   "metadata": {},
   "outputs": [
    {
     "data": {
      "text/html": [
       "<div>\n",
       "<style scoped>\n",
       "    .dataframe tbody tr th:only-of-type {\n",
       "        vertical-align: middle;\n",
       "    }\n",
       "\n",
       "    .dataframe tbody tr th {\n",
       "        vertical-align: top;\n",
       "    }\n",
       "\n",
       "    .dataframe thead th {\n",
       "        text-align: right;\n",
       "    }\n",
       "</style>\n",
       "<table border=\"1\" class=\"dataframe\">\n",
       "  <thead>\n",
       "    <tr style=\"text-align: right;\">\n",
       "      <th></th>\n",
       "      <th>f0</th>\n",
       "      <th>f1</th>\n",
       "      <th>f2</th>\n",
       "      <th>product</th>\n",
       "    </tr>\n",
       "  </thead>\n",
       "  <tbody>\n",
       "    <tr>\n",
       "      <td>f0</td>\n",
       "      <td>1.000000</td>\n",
       "      <td>0.000528</td>\n",
       "      <td>-0.000448</td>\n",
       "      <td>-0.001987</td>\n",
       "    </tr>\n",
       "    <tr>\n",
       "      <td>f1</td>\n",
       "      <td>0.000528</td>\n",
       "      <td>1.000000</td>\n",
       "      <td>0.000779</td>\n",
       "      <td>-0.001012</td>\n",
       "    </tr>\n",
       "    <tr>\n",
       "      <td>f2</td>\n",
       "      <td>-0.000448</td>\n",
       "      <td>0.000779</td>\n",
       "      <td>1.000000</td>\n",
       "      <td>0.445871</td>\n",
       "    </tr>\n",
       "    <tr>\n",
       "      <td>product</td>\n",
       "      <td>-0.001987</td>\n",
       "      <td>-0.001012</td>\n",
       "      <td>0.445871</td>\n",
       "      <td>1.000000</td>\n",
       "    </tr>\n",
       "  </tbody>\n",
       "</table>\n",
       "</div>"
      ],
      "text/plain": [
       "               f0        f1        f2   product\n",
       "f0       1.000000  0.000528 -0.000448 -0.001987\n",
       "f1       0.000528  1.000000  0.000779 -0.001012\n",
       "f2      -0.000448  0.000779  1.000000  0.445871\n",
       "product -0.001987 -0.001012  0.445871  1.000000"
      ]
     },
     "metadata": {},
     "output_type": "display_data"
    },
    {
     "data": {
      "text/plain": [
       "<matplotlib.axes._subplots.AxesSubplot at 0x7f0e9a88da90>"
      ]
     },
     "execution_count": 8,
     "metadata": {},
     "output_type": "execute_result"
    },
    {
     "data": {
      "image/png": "[encoded data removed]",
      "text/plain": [
       "<Figure size 504x504 with 2 Axes>"
      ]
     },
     "metadata": {
      "needs_background": "light"
     },
     "output_type": "display_data"
    }
   ],
   "source": [
    "# оценка корреляций признаков\n",
    "display(geo_data_2.corr())\n",
    "plt.rcParams['figure.figsize'] = (7.0, 7.0)\n",
    "sns.heatmap(geo_data_2.corr(), annot=True, linewidths=3, linecolor='white')"
   ]
  },
  {
   "cell_type": "markdown",
   "metadata": {},
   "source": [
    "Корреляции между признаками практически нет. Однако для второго региона имеется прямая зависимость продукта от признака f2. Это означает, что объем нефти в данном регионе напрямую определяется признаком f2. "
   ]
  },
  {
   "cell_type": "markdown",
   "metadata": {},
   "source": [
    "Столбцы с id нам не нужны, удалим их из датасетов."
   ]
  },
  {
   "cell_type": "code",
   "execution_count": 9,
   "metadata": {},
   "outputs": [],
   "source": [
    "geo_data_0 = geo_data_0.drop('id', axis=1)\n",
    "geo_data_1 = geo_data_1.drop('id', axis=1)\n",
    "geo_data_2 = geo_data_2.drop('id', axis=1)"
   ]
  },
  {
   "cell_type": "code",
   "execution_count": 10,
   "metadata": {
    "scrolled": true
   },
   "outputs": [
    {
     "data": {
      "text/html": [
       "<div>\n",
       "<style scoped>\n",
       "    .dataframe tbody tr th:only-of-type {\n",
       "        vertical-align: middle;\n",
       "    }\n",
       "\n",
       "    .dataframe tbody tr th {\n",
       "        vertical-align: top;\n",
       "    }\n",
       "\n",
       "    .dataframe thead th {\n",
       "        text-align: right;\n",
       "    }\n",
       "</style>\n",
       "<table border=\"1\" class=\"dataframe\">\n",
       "  <thead>\n",
       "    <tr style=\"text-align: right;\">\n",
       "      <th></th>\n",
       "      <th>f0</th>\n",
       "      <th>f1</th>\n",
       "      <th>f2</th>\n",
       "      <th>product</th>\n",
       "    </tr>\n",
       "  </thead>\n",
       "  <tbody>\n",
       "    <tr>\n",
       "      <td>0</td>\n",
       "      <td>0.705745</td>\n",
       "      <td>-0.497823</td>\n",
       "      <td>1.221170</td>\n",
       "      <td>105.280062</td>\n",
       "    </tr>\n",
       "    <tr>\n",
       "      <td>1</td>\n",
       "      <td>1.334711</td>\n",
       "      <td>-0.340164</td>\n",
       "      <td>4.365080</td>\n",
       "      <td>73.037750</td>\n",
       "    </tr>\n",
       "    <tr>\n",
       "      <td>2</td>\n",
       "      <td>1.022732</td>\n",
       "      <td>0.151990</td>\n",
       "      <td>1.419926</td>\n",
       "      <td>85.265647</td>\n",
       "    </tr>\n",
       "    <tr>\n",
       "      <td>3</td>\n",
       "      <td>-0.032172</td>\n",
       "      <td>0.139033</td>\n",
       "      <td>2.978566</td>\n",
       "      <td>168.620776</td>\n",
       "    </tr>\n",
       "    <tr>\n",
       "      <td>4</td>\n",
       "      <td>1.988431</td>\n",
       "      <td>0.155413</td>\n",
       "      <td>4.751769</td>\n",
       "      <td>154.036647</td>\n",
       "    </tr>\n",
       "  </tbody>\n",
       "</table>\n",
       "</div>"
      ],
      "text/plain": [
       "         f0        f1        f2     product\n",
       "0  0.705745 -0.497823  1.221170  105.280062\n",
       "1  1.334711 -0.340164  4.365080   73.037750\n",
       "2  1.022732  0.151990  1.419926   85.265647\n",
       "3 -0.032172  0.139033  2.978566  168.620776\n",
       "4  1.988431  0.155413  4.751769  154.036647"
      ]
     },
     "execution_count": 10,
     "metadata": {},
     "output_type": "execute_result"
    }
   ],
   "source": [
    "geo_data_0.head()"
   ]
  },
  {
   "cell_type": "markdown",
   "metadata": {},
   "source": [
    "Данные загружены и проанализированы, необходимости в серьезной обработке не выявлено. Из представленных выше статистик можно увидеть, что масштаб значений отличается, следовательно перед созданием модели потребуется их к единому масштабу."
   ]
  },
  {
   "cell_type": "markdown",
   "metadata": {},
   "source": [
    "## Обучение и проверка модели"
   ]
  },
  {
   "cell_type": "markdown",
   "metadata": {},
   "source": [
    "Подготовим данные. Выделим признаки и целевой признак, разделим на обучающую и валидационную выборки в соотношении 3:1 и отмасштабируем."
   ]
  },
  {
   "cell_type": "code",
   "execution_count": 11,
   "metadata": {},
   "outputs": [],
   "source": [
    "# Создадим функцию разделения данных на обучающую и валидационную выборки\n",
    "def split (geo_data_region):\n",
    "    features = geo_data_region.drop('product', axis=1)\n",
    "    target = geo_data_region['product']\n",
    "    \n",
    "    # Разделим выборки в пропорции 3:1\n",
    "    features_train, features_valid, target_train, target_valid = train_test_split(features, target, \n",
    "                                                                                  test_size=0.25, random_state=12345)\n",
    "    # Приведем чесленные методы к одному масштабу\n",
    "    numeric = ['f0', 'f1', 'f2']\n",
    "    scaler = StandardScaler()\n",
    "    scaler.fit(features_train[numeric])\n",
    "\n",
    "    features_train[numeric] = scaler.transform(features_train[numeric])\n",
    "    features_valid[numeric] = scaler.transform(features_valid[numeric])\n",
    "    \n",
    "    return features_train, features_valid, target_train, target_valid   "
   ]
  },
  {
   "cell_type": "code",
   "execution_count": 12,
   "metadata": {},
   "outputs": [
    {
     "name": "stdout",
     "output_type": "stream",
     "text": [
      "(75000, 3)\n",
      "(25000, 3)\n",
      "(75000,)\n",
      "(25000,)\n"
     ]
    },
    {
     "name": "stderr",
     "output_type": "stream",
     "text": [
      "/opt/conda/lib/python3.7/site-packages/ipykernel_launcher.py:14: SettingWithCopyWarning:\n",
      "\n",
      "\n",
      "A value is trying to be set on a copy of a slice from a DataFrame.\n",
      "Try using .loc[row_indexer,col_indexer] = value instead\n",
      "\n",
      "See the caveats in the documentation: http://pandas.pydata.org/pandas-docs/stable/user_guide/indexing.html#returning-a-view-versus-a-copy\n",
      "\n",
      "/opt/conda/lib/python3.7/site-packages/pandas/core/frame.py:3498: SettingWithCopyWarning:\n",
      "\n",
      "\n",
      "A value is trying to be set on a copy of a slice from a DataFrame\n",
      "\n",
      "See the caveats in the documentation: http://pandas.pydata.org/pandas-docs/stable/user_guide/indexing.html#returning-a-view-versus-a-copy\n",
      "\n",
      "/opt/conda/lib/python3.7/site-packages/pandas/core/frame.py:3469: SettingWithCopyWarning:\n",
      "\n",
      "\n",
      "A value is trying to be set on a copy of a slice from a DataFrame\n",
      "\n",
      "See the caveats in the documentation: http://pandas.pydata.org/pandas-docs/stable/user_guide/indexing.html#returning-a-view-versus-a-copy\n",
      "\n",
      "/opt/conda/lib/python3.7/site-packages/ipykernel_launcher.py:15: SettingWithCopyWarning:\n",
      "\n",
      "\n",
      "A value is trying to be set on a copy of a slice from a DataFrame.\n",
      "Try using .loc[row_indexer,col_indexer] = value instead\n",
      "\n",
      "See the caveats in the documentation: http://pandas.pydata.org/pandas-docs/stable/user_guide/indexing.html#returning-a-view-versus-a-copy\n",
      "\n",
      "/opt/conda/lib/python3.7/site-packages/pandas/core/frame.py:3498: SettingWithCopyWarning:\n",
      "\n",
      "\n",
      "A value is trying to be set on a copy of a slice from a DataFrame\n",
      "\n",
      "See the caveats in the documentation: http://pandas.pydata.org/pandas-docs/stable/user_guide/indexing.html#returning-a-view-versus-a-copy\n",
      "\n",
      "/opt/conda/lib/python3.7/site-packages/pandas/core/frame.py:3469: SettingWithCopyWarning:\n",
      "\n",
      "\n",
      "A value is trying to be set on a copy of a slice from a DataFrame\n",
      "\n",
      "See the caveats in the documentation: http://pandas.pydata.org/pandas-docs/stable/user_guide/indexing.html#returning-a-view-versus-a-copy\n",
      "\n",
      "/opt/conda/lib/python3.7/site-packages/ipykernel_launcher.py:14: SettingWithCopyWarning:\n",
      "\n",
      "\n",
      "A value is trying to be set on a copy of a slice from a DataFrame.\n",
      "Try using .loc[row_indexer,col_indexer] = value instead\n",
      "\n",
      "See the caveats in the documentation: http://pandas.pydata.org/pandas-docs/stable/user_guide/indexing.html#returning-a-view-versus-a-copy\n",
      "\n",
      "/opt/conda/lib/python3.7/site-packages/pandas/core/frame.py:3498: SettingWithCopyWarning:\n",
      "\n",
      "\n",
      "A value is trying to be set on a copy of a slice from a DataFrame\n",
      "\n",
      "See the caveats in the documentation: http://pandas.pydata.org/pandas-docs/stable/user_guide/indexing.html#returning-a-view-versus-a-copy\n",
      "\n",
      "/opt/conda/lib/python3.7/site-packages/pandas/core/frame.py:3469: SettingWithCopyWarning:\n",
      "\n",
      "\n",
      "A value is trying to be set on a copy of a slice from a DataFrame\n",
      "\n",
      "See the caveats in the documentation: http://pandas.pydata.org/pandas-docs/stable/user_guide/indexing.html#returning-a-view-versus-a-copy\n",
      "\n",
      "/opt/conda/lib/python3.7/site-packages/ipykernel_launcher.py:15: SettingWithCopyWarning:\n",
      "\n",
      "\n",
      "A value is trying to be set on a copy of a slice from a DataFrame.\n",
      "Try using .loc[row_indexer,col_indexer] = value instead\n",
      "\n",
      "See the caveats in the documentation: http://pandas.pydata.org/pandas-docs/stable/user_guide/indexing.html#returning-a-view-versus-a-copy\n",
      "\n",
      "/opt/conda/lib/python3.7/site-packages/pandas/core/frame.py:3498: SettingWithCopyWarning:\n",
      "\n",
      "\n",
      "A value is trying to be set on a copy of a slice from a DataFrame\n",
      "\n",
      "See the caveats in the documentation: http://pandas.pydata.org/pandas-docs/stable/user_guide/indexing.html#returning-a-view-versus-a-copy\n",
      "\n",
      "/opt/conda/lib/python3.7/site-packages/pandas/core/frame.py:3469: SettingWithCopyWarning:\n",
      "\n",
      "\n",
      "A value is trying to be set on a copy of a slice from a DataFrame\n",
      "\n",
      "See the caveats in the documentation: http://pandas.pydata.org/pandas-docs/stable/user_guide/indexing.html#returning-a-view-versus-a-copy\n",
      "\n",
      "/opt/conda/lib/python3.7/site-packages/ipykernel_launcher.py:14: SettingWithCopyWarning:\n",
      "\n",
      "\n",
      "A value is trying to be set on a copy of a slice from a DataFrame.\n",
      "Try using .loc[row_indexer,col_indexer] = value instead\n",
      "\n",
      "See the caveats in the documentation: http://pandas.pydata.org/pandas-docs/stable/user_guide/indexing.html#returning-a-view-versus-a-copy\n",
      "\n",
      "/opt/conda/lib/python3.7/site-packages/pandas/core/frame.py:3498: SettingWithCopyWarning:\n",
      "\n",
      "\n",
      "A value is trying to be set on a copy of a slice from a DataFrame\n",
      "\n",
      "See the caveats in the documentation: http://pandas.pydata.org/pandas-docs/stable/user_guide/indexing.html#returning-a-view-versus-a-copy\n",
      "\n",
      "/opt/conda/lib/python3.7/site-packages/pandas/core/frame.py:3469: SettingWithCopyWarning:\n",
      "\n",
      "\n",
      "A value is trying to be set on a copy of a slice from a DataFrame\n",
      "\n",
      "See the caveats in the documentation: http://pandas.pydata.org/pandas-docs/stable/user_guide/indexing.html#returning-a-view-versus-a-copy\n",
      "\n",
      "/opt/conda/lib/python3.7/site-packages/ipykernel_launcher.py:15: SettingWithCopyWarning:\n",
      "\n",
      "\n",
      "A value is trying to be set on a copy of a slice from a DataFrame.\n",
      "Try using .loc[row_indexer,col_indexer] = value instead\n",
      "\n",
      "See the caveats in the documentation: http://pandas.pydata.org/pandas-docs/stable/user_guide/indexing.html#returning-a-view-versus-a-copy\n",
      "\n",
      "/opt/conda/lib/python3.7/site-packages/pandas/core/frame.py:3498: SettingWithCopyWarning:\n",
      "\n",
      "\n",
      "A value is trying to be set on a copy of a slice from a DataFrame\n",
      "\n",
      "See the caveats in the documentation: http://pandas.pydata.org/pandas-docs/stable/user_guide/indexing.html#returning-a-view-versus-a-copy\n",
      "\n",
      "/opt/conda/lib/python3.7/site-packages/pandas/core/frame.py:3469: SettingWithCopyWarning:\n",
      "\n",
      "\n",
      "A value is trying to be set on a copy of a slice from a DataFrame\n",
      "\n",
      "See the caveats in the documentation: http://pandas.pydata.org/pandas-docs/stable/user_guide/indexing.html#returning-a-view-versus-a-copy\n",
      "\n"
     ]
    }
   ],
   "source": [
    "# Применим функцию и создадим обучающую и валидационную выборки для 3-х регионов\n",
    "features_train_0, features_valid_0, target_train_0, target_valid_0 = split(geo_data_0)\n",
    "features_train_1, features_valid_1, target_train_1, target_valid_1 = split(geo_data_1)\n",
    "features_train_2, features_valid_2, target_train_2, target_valid_2 = split(geo_data_2)\n",
    "\n",
    "# проверим работу функции на одном из регионов\n",
    "print(features_train_0.shape)\n",
    "print(features_valid_0.shape)\n",
    "print(target_train_0.shape)\n",
    "print(target_valid_0.shape)"
   ]
  },
  {
   "cell_type": "code",
   "execution_count": 13,
   "metadata": {},
   "outputs": [
    {
     "data": {
      "text/html": [
       "<div>\n",
       "<style scoped>\n",
       "    .dataframe tbody tr th:only-of-type {\n",
       "        vertical-align: middle;\n",
       "    }\n",
       "\n",
       "    .dataframe tbody tr th {\n",
       "        vertical-align: top;\n",
       "    }\n",
       "\n",
       "    .dataframe thead th {\n",
       "        text-align: right;\n",
       "    }\n",
       "</style>\n",
       "<table border=\"1\" class=\"dataframe\">\n",
       "  <thead>\n",
       "    <tr style=\"text-align: right;\">\n",
       "      <th></th>\n",
       "      <th>f0</th>\n",
       "      <th>f1</th>\n",
       "      <th>f2</th>\n",
       "    </tr>\n",
       "  </thead>\n",
       "  <tbody>\n",
       "    <tr>\n",
       "      <td>count</td>\n",
       "      <td>7.500000e+04</td>\n",
       "      <td>7.500000e+04</td>\n",
       "      <td>7.500000e+04</td>\n",
       "    </tr>\n",
       "    <tr>\n",
       "      <td>mean</td>\n",
       "      <td>1.704118e-16</td>\n",
       "      <td>-3.349025e-17</td>\n",
       "      <td>6.252776e-18</td>\n",
       "    </tr>\n",
       "    <tr>\n",
       "      <td>std</td>\n",
       "      <td>1.000007e+00</td>\n",
       "      <td>1.000007e+00</td>\n",
       "      <td>1.000007e+00</td>\n",
       "    </tr>\n",
       "    <tr>\n",
       "      <td>min</td>\n",
       "      <td>-2.186288e+00</td>\n",
       "      <td>-2.178269e+00</td>\n",
       "      <td>-3.890945e+00</td>\n",
       "    </tr>\n",
       "    <tr>\n",
       "      <td>25%</td>\n",
       "      <td>-6.575544e-01</td>\n",
       "      <td>-8.925344e-01</td>\n",
       "      <td>-6.799576e-01</td>\n",
       "    </tr>\n",
       "    <tr>\n",
       "      <td>50%</td>\n",
       "      <td>1.878842e-03</td>\n",
       "      <td>-7.407961e-04</td>\n",
       "      <td>4.288679e-03</td>\n",
       "    </tr>\n",
       "    <tr>\n",
       "      <td>75%</td>\n",
       "      <td>6.571176e-01</td>\n",
       "      <td>8.928514e-01</td>\n",
       "      <td>6.829752e-01</td>\n",
       "    </tr>\n",
       "    <tr>\n",
       "      <td>max</td>\n",
       "      <td>2.139081e+00</td>\n",
       "      <td>2.169192e+00</td>\n",
       "      <td>4.153623e+00</td>\n",
       "    </tr>\n",
       "  </tbody>\n",
       "</table>\n",
       "</div>"
      ],
      "text/plain": [
       "                 f0            f1            f2\n",
       "count  7.500000e+04  7.500000e+04  7.500000e+04\n",
       "mean   1.704118e-16 -3.349025e-17  6.252776e-18\n",
       "std    1.000007e+00  1.000007e+00  1.000007e+00\n",
       "min   -2.186288e+00 -2.178269e+00 -3.890945e+00\n",
       "25%   -6.575544e-01 -8.925344e-01 -6.799576e-01\n",
       "50%    1.878842e-03 -7.407961e-04  4.288679e-03\n",
       "75%    6.571176e-01  8.928514e-01  6.829752e-01\n",
       "max    2.139081e+00  2.169192e+00  4.153623e+00"
      ]
     },
     "metadata": {},
     "output_type": "display_data"
    },
    {
     "data": {
      "text/html": [
       "<div>\n",
       "<style scoped>\n",
       "    .dataframe tbody tr th:only-of-type {\n",
       "        vertical-align: middle;\n",
       "    }\n",
       "\n",
       "    .dataframe tbody tr th {\n",
       "        vertical-align: top;\n",
       "    }\n",
       "\n",
       "    .dataframe thead th {\n",
       "        text-align: right;\n",
       "    }\n",
       "</style>\n",
       "<table border=\"1\" class=\"dataframe\">\n",
       "  <thead>\n",
       "    <tr style=\"text-align: right;\">\n",
       "      <th></th>\n",
       "      <th>f0</th>\n",
       "      <th>f1</th>\n",
       "      <th>f2</th>\n",
       "    </tr>\n",
       "  </thead>\n",
       "  <tbody>\n",
       "    <tr>\n",
       "      <td>count</td>\n",
       "      <td>7.500000e+04</td>\n",
       "      <td>7.500000e+04</td>\n",
       "      <td>7.500000e+04</td>\n",
       "    </tr>\n",
       "    <tr>\n",
       "      <td>mean</td>\n",
       "      <td>5.684342e-19</td>\n",
       "      <td>-1.028392e-16</td>\n",
       "      <td>-2.244131e-17</td>\n",
       "    </tr>\n",
       "    <tr>\n",
       "      <td>std</td>\n",
       "      <td>1.000007e+00</td>\n",
       "      <td>1.000007e+00</td>\n",
       "      <td>1.000007e+00</td>\n",
       "    </tr>\n",
       "    <tr>\n",
       "      <td>min</td>\n",
       "      <td>-3.652789e+00</td>\n",
       "      <td>-4.206546e+00</td>\n",
       "      <td>-1.476535e+00</td>\n",
       "    </tr>\n",
       "    <tr>\n",
       "      <td>25%</td>\n",
       "      <td>-8.290577e-01</td>\n",
       "      <td>-6.766541e-01</td>\n",
       "      <td>-8.784844e-01</td>\n",
       "    </tr>\n",
       "    <tr>\n",
       "      <td>50%</td>\n",
       "      <td>1.734177e-03</td>\n",
       "      <td>-1.083306e-03</td>\n",
       "      <td>-2.838957e-01</td>\n",
       "    </tr>\n",
       "    <tr>\n",
       "      <td>75%</td>\n",
       "      <td>8.349682e-01</td>\n",
       "      <td>6.768381e-01</td>\n",
       "      <td>8.834721e-01</td>\n",
       "    </tr>\n",
       "    <tr>\n",
       "      <td>max</td>\n",
       "      <td>3.154487e+00</td>\n",
       "      <td>4.588691e+00</td>\n",
       "      <td>1.482457e+00</td>\n",
       "    </tr>\n",
       "  </tbody>\n",
       "</table>\n",
       "</div>"
      ],
      "text/plain": [
       "                 f0            f1            f2\n",
       "count  7.500000e+04  7.500000e+04  7.500000e+04\n",
       "mean   5.684342e-19 -1.028392e-16 -2.244131e-17\n",
       "std    1.000007e+00  1.000007e+00  1.000007e+00\n",
       "min   -3.652789e+00 -4.206546e+00 -1.476535e+00\n",
       "25%   -8.290577e-01 -6.766541e-01 -8.784844e-01\n",
       "50%    1.734177e-03 -1.083306e-03 -2.838957e-01\n",
       "75%    8.349682e-01  6.768381e-01  8.834721e-01\n",
       "max    3.154487e+00  4.588691e+00  1.482457e+00"
      ]
     },
     "metadata": {},
     "output_type": "display_data"
    },
    {
     "data": {
      "text/html": [
       "<div>\n",
       "<style scoped>\n",
       "    .dataframe tbody tr th:only-of-type {\n",
       "        vertical-align: middle;\n",
       "    }\n",
       "\n",
       "    .dataframe tbody tr th {\n",
       "        vertical-align: top;\n",
       "    }\n",
       "\n",
       "    .dataframe thead th {\n",
       "        text-align: right;\n",
       "    }\n",
       "</style>\n",
       "<table border=\"1\" class=\"dataframe\">\n",
       "  <thead>\n",
       "    <tr style=\"text-align: right;\">\n",
       "      <th></th>\n",
       "      <th>f0</th>\n",
       "      <th>f1</th>\n",
       "      <th>f2</th>\n",
       "    </tr>\n",
       "  </thead>\n",
       "  <tbody>\n",
       "    <tr>\n",
       "      <td>count</td>\n",
       "      <td>7.500000e+04</td>\n",
       "      <td>7.500000e+04</td>\n",
       "      <td>7.500000e+04</td>\n",
       "    </tr>\n",
       "    <tr>\n",
       "      <td>mean</td>\n",
       "      <td>5.684342e-19</td>\n",
       "      <td>-1.028392e-16</td>\n",
       "      <td>-2.244131e-17</td>\n",
       "    </tr>\n",
       "    <tr>\n",
       "      <td>std</td>\n",
       "      <td>1.000007e+00</td>\n",
       "      <td>1.000007e+00</td>\n",
       "      <td>1.000007e+00</td>\n",
       "    </tr>\n",
       "    <tr>\n",
       "      <td>min</td>\n",
       "      <td>-3.652789e+00</td>\n",
       "      <td>-4.206546e+00</td>\n",
       "      <td>-1.476535e+00</td>\n",
       "    </tr>\n",
       "    <tr>\n",
       "      <td>25%</td>\n",
       "      <td>-8.290577e-01</td>\n",
       "      <td>-6.766541e-01</td>\n",
       "      <td>-8.784844e-01</td>\n",
       "    </tr>\n",
       "    <tr>\n",
       "      <td>50%</td>\n",
       "      <td>1.734177e-03</td>\n",
       "      <td>-1.083306e-03</td>\n",
       "      <td>-2.838957e-01</td>\n",
       "    </tr>\n",
       "    <tr>\n",
       "      <td>75%</td>\n",
       "      <td>8.349682e-01</td>\n",
       "      <td>6.768381e-01</td>\n",
       "      <td>8.834721e-01</td>\n",
       "    </tr>\n",
       "    <tr>\n",
       "      <td>max</td>\n",
       "      <td>3.154487e+00</td>\n",
       "      <td>4.588691e+00</td>\n",
       "      <td>1.482457e+00</td>\n",
       "    </tr>\n",
       "  </tbody>\n",
       "</table>\n",
       "</div>"
      ],
      "text/plain": [
       "                 f0            f1            f2\n",
       "count  7.500000e+04  7.500000e+04  7.500000e+04\n",
       "mean   5.684342e-19 -1.028392e-16 -2.244131e-17\n",
       "std    1.000007e+00  1.000007e+00  1.000007e+00\n",
       "min   -3.652789e+00 -4.206546e+00 -1.476535e+00\n",
       "25%   -8.290577e-01 -6.766541e-01 -8.784844e-01\n",
       "50%    1.734177e-03 -1.083306e-03 -2.838957e-01\n",
       "75%    8.349682e-01  6.768381e-01  8.834721e-01\n",
       "max    3.154487e+00  4.588691e+00  1.482457e+00"
      ]
     },
     "metadata": {},
     "output_type": "display_data"
    }
   ],
   "source": [
    "# Проверим применение масштабирования\n",
    "display(features_train_0.describe())\n",
    "display(features_train_1.describe())\n",
    "display(features_train_1.describe())"
   ]
  },
  {
   "cell_type": "code",
   "execution_count": 14,
   "metadata": {},
   "outputs": [],
   "source": [
    "# создаем функцию для получения предсказаний на модели LinearRegression()\n",
    "def func(features_train, features_valid, target_train, target_valid):\n",
    "    # инициализируем модель LinearRegression\n",
    "    model = LinearRegression() \n",
    "    # обучим модель на обучающей выборке\n",
    "    model.fit(features_train, target_train) \n",
    "    # получим предсказания модели на валидационной выборке\n",
    "    predictions_valid = pd.Series(model.predict(features_valid)) \n",
    "    # считаем значение метрики RMSE на валидационной выборке\n",
    "    rmse = mean_squared_error(target_valid, predictions_valid)**0.5\n",
    "    # расчитываем средний запас сырья \n",
    "    mean_stock = predictions_valid.mean()\n",
    "    \n",
    "    return predictions_valid, rmse, mean_stock"
   ]
  },
  {
   "cell_type": "code",
   "execution_count": 15,
   "metadata": {
    "scrolled": true
   },
   "outputs": [
    {
     "name": "stdout",
     "output_type": "stream",
     "text": [
      "Для региона 1 средний запас предсказанного сырья составил 92.59, а RMSE модели 37.58\n",
      "Для региона 2 средний запас предсказанного сырья составил 68.73, а RMSE модели 0.89\n",
      "Для региона 3 средний запас предсказанного сырья составил 94.97, а RMSE модели 40.03\n"
     ]
    }
   ],
   "source": [
    "# получим данные для всех регионов\n",
    "predictions_valid_0, rmse_0, mean_stock_0 = func(features_train_0, features_valid_0, target_train_0, target_valid_0)\n",
    "predictions_valid_1, rmse_1, mean_stock_1 = func(features_train_1, features_valid_1, target_train_1, target_valid_1)\n",
    "predictions_valid_2, rmse_2, mean_stock_2 = func(features_train_2, features_valid_2, target_train_2, target_valid_2)\n",
    "print('Для региона 1 средний запас предсказанного сырья составил {:.2f}, а RMSE модели {:.2f}'.format(mean_stock_0, rmse_0))\n",
    "print('Для региона 2 средний запас предсказанного сырья составил {:.2f}, а RMSE модели {:.2f}'.format(mean_stock_1, rmse_1))\n",
    "print('Для региона 3 средний запас предсказанного сырья составил {:.2f}, а RMSE модели {:.2f}'.format(mean_stock_2, rmse_2))"
   ]
  },
  {
   "cell_type": "markdown",
   "metadata": {},
   "source": [
    "Сравним правильность предсказаний модели и посмотрим на действительные средние запасы по каждому региону."
   ]
  },
  {
   "cell_type": "code",
   "execution_count": 16,
   "metadata": {},
   "outputs": [
    {
     "name": "stdout",
     "output_type": "stream",
     "text": [
      "Для региона 1 истинный средний запас сырья равен 92.08\n",
      "Для региона 2 истинный средний запас сырья равен 68.72\n",
      "Для региона 3 истинный средний запас сырья равен 94.88\n"
     ]
    }
   ],
   "source": [
    "print('Для региона 1 истинный средний запас сырья равен {:.2f}'.format(target_valid_0.mean()))\n",
    "print('Для региона 2 истинный средний запас сырья равен {:.2f}'.format(target_valid_1.mean()))\n",
    "print('Для региона 3 истинный средний запас сырья равен {:.2f}'.format(target_valid_2.mean()))"
   ]
  },
  {
   "cell_type": "markdown",
   "metadata": {},
   "source": [
    "Все 3 модели предсказывают значения, близкие к действительным, т.к. действительные средние запасы отличаются от предсказанных для каждой модели всего на несколько сотых.\n",
    "Наилучшими прогнозными свойствами обладает модель 2, т.к. признак f2 имеет прямую зависимость с целевым признаком. Согласно показателям RMSE, предсказания моделидля 1 и 3 регионов примерно одинаковые."
   ]
  },
  {
   "cell_type": "markdown",
   "metadata": {},
   "source": [
    "## Подготовка к расчёту прибыли"
   ]
  },
  {
   "cell_type": "markdown",
   "metadata": {},
   "source": [
    "### Создадим переменные с ключевыми показателями"
   ]
  },
  {
   "cell_type": "code",
   "execution_count": 17,
   "metadata": {},
   "outputs": [],
   "source": [
    "# количество точек для исследования\n",
    "count_points = 500\n",
    "# количество точек для разработки\n",
    "development_count = 200 \n",
    "# бюджет на разработку скважин в регионе в млн. руб.\n",
    "development_budget = 10000 \n",
    "# доход с 1 тыс баррель в млн. руб\n",
    "revenue_per_barrel = 0.45 \n",
    "# максимальная вероятность убытков\n",
    "losses_probability = 0.025 \n",
    "# Bootstrap с 1000 выборок\n",
    "bootstrap_samples = 1000"
   ]
  },
  {
   "cell_type": "markdown",
   "metadata": {},
   "source": [
    "### Рассчитаем достаточный объём сырья для безубыточной разработки новой скважины. Сравним полученный объём сырья со средним запасом в каждом регионе."
   ]
  },
  {
   "cell_type": "markdown",
   "metadata": {},
   "source": [
    "Рассчитаем достаточный объём сырья для безубыточной разработки новой скважины. Для этого необходимо:\n",
    "- Вычислить допустимые затраты на разработку одной скважины.Разделим бюджет на количество скважин.\n",
    "- Вычислить какое количество в тыс. баррель необходимо для покрытия затрат на одну скважину."
   ]
  },
  {
   "cell_type": "code",
   "execution_count": 18,
   "metadata": {},
   "outputs": [
    {
     "name": "stdout",
     "output_type": "stream",
     "text": [
      "Допустимые затраты на разработку одной скважины составляют 50.0 млн. руб.\n",
      "Необходимый объем сырья для безубыточной разработки 1 скважины в тыс. баррелей 111.11\n"
     ]
    }
   ],
   "source": [
    "# Вычислим допустимые затраты на разработку одной скважины.\n",
    "expenses = development_budget / development_count\n",
    "print('Допустимые затраты на разработку одной скважины составляют', expenses, 'млн. руб.')\n",
    "\n",
    "# Вычислим какое количество в тыс. баррель необходимо для покрытия затрат на одну скважину.\n",
    "sufficient_volume = expenses / revenue_per_barrel\n",
    "print('Необходимый объем сырья для безубыточной разработки 1 скважины в тыс. баррелей {:.2f}'.format(sufficient_volume))"
   ]
  },
  {
   "cell_type": "markdown",
   "metadata": {},
   "source": [
    "Необходимый достаточный объем сырья для того, чтобы разработка скважины была окупаемой, составил 111 тыс. баррелей. Средние значения запасов сырья для всех трех регионов ниже необходимого объема, что говорит о том, что при осуществлении разработки скважин, выбранных случайным образом, имеется высокая доля риска не окупить затраченный бюджет. Поэтому важно иметь модель, которая наиболее корректно предсказывала бы объем продукта в зависимости от известных факторов."
   ]
  },
  {
   "cell_type": "markdown",
   "metadata": {},
   "source": [
    "## Расчёт прибыли и рисков "
   ]
  },
  {
   "cell_type": "markdown",
   "metadata": {},
   "source": [
    "Проверим работоспособность созданных ранее моделей для определения скважин с максимальными значениями предсказаний. По условиям задачи при разведке региона исследуют 500 точек, из которых с помощью машинного обучения выбирают 200 лучших для разработки. Для выбранных скважин найдем соответствующие им истинные значения и по ним проведем расчет прибыли. Добавим все в функцию, чтобы не дублировать код для каждого региона."
   ]
  },
  {
   "cell_type": "markdown",
   "metadata": {},
   "source": [
    "### Расчет прибыли и рисков при исследовании всех точек, из которых с помощью машинного обучения выбирают 200 лучших для разработки."
   ]
  },
  {
   "cell_type": "code",
   "execution_count": 19,
   "metadata": {},
   "outputs": [],
   "source": [
    "def calc_income(target_valid, predictions_valid):\n",
    "    # выбирем 200 скважин с максимальным объемом нефти\n",
    "    pred_max = predictions_valid.sort_values(ascending=False).head(200) \n",
    "    target_max = target_valid.reset_index(drop=True)[pred_max.index] \n",
    "    # определим доход в млн. рублей с 200 скважин\n",
    "    income = target_max.sum() * revenue_per_barrel \n",
    "    return income"
   ]
  },
  {
   "cell_type": "code",
   "execution_count": 20,
   "metadata": {},
   "outputs": [
    {
     "name": "stdout",
     "output_type": "stream",
     "text": [
      "Прибыль с 200 выбранных лучших скважин по предсказаниям модели составит:\n",
      "для региона 1 - 3320.826 млн. руб.\n",
      "для региона 2 - 2415.087 млн. руб.\n",
      "для региона 3 - 2710.350 млн. руб.\n"
     ]
    }
   ],
   "source": [
    "print('Прибыль с 200 выбранных лучших скважин по предсказаниям модели составит:')\n",
    "print('для региона 1 - {:.3f} млн. руб.'.format(calc_income(target_valid_0, predictions_valid_0) - development_budget))\n",
    "print('для региона 2 - {:.3f} млн. руб.'.format(calc_income(target_valid_1, predictions_valid_1) - development_budget))\n",
    "print('для региона 3 - {:.3f} млн. руб.'.format(calc_income(target_valid_2, predictions_valid_2) - development_budget))"
   ]
  },
  {
   "cell_type": "markdown",
   "metadata": {},
   "source": [
    "Мы получили прибыль с 200 выбранных лучших скважин для региона 1 - 3320.826 млн. руб., для региона 2 - 2415.087 млн. руб., для региона 3 - 2710.350 млн. руб. Однако такие результаты мы можем получить при условии того, что при разведке региона исследованы все точки, а по условиям задачи при разведке региона исследуют только 500 точек, из которых с помощью машинного обучения выбирают 200 лучших для разработки. Поэтому необходимо произвести расчет прибыли только по 500 точкам."
   ]
  },
  {
   "cell_type": "markdown",
   "metadata": {},
   "source": [
    "### Расчет прибыли и рисков при исследовании 500 точек, из которых с помощью машинного обучения выбирают 200 лучших для разработки."
   ]
  },
  {
   "cell_type": "code",
   "execution_count": 21,
   "metadata": {},
   "outputs": [],
   "source": [
    "# Создадим функцию для расчета выручки для 500 случайных скважин\n",
    "def revenue (target_valid, predictions_valid, development_count):\n",
    "    pred_max = predictions_valid.sort_values(ascending=False) # сортируем скважины по значениям их предсказаний\n",
    "    \n",
    "    # определяем верные значения для отобранных случайных скважин и берем только нужное количество\n",
    "    target_max = target_valid[pred_max.index][:development_count]\n",
    "    income = target_max.sum() * revenue_per_barrel # доход в млн. рублей\n",
    "    return income"
   ]
  },
  {
   "cell_type": "markdown",
   "metadata": {},
   "source": [
    "Далее определим распределение прибыли и убытков с помощью техники Bootstrap для 1000 выборок, в результате чего получим распределение выручек, из которых определим среднюю выручку для региона, доверительный интервал и вероятность получить отрицательную выручку."
   ]
  },
  {
   "cell_type": "code",
   "execution_count": 26,
   "metadata": {},
   "outputs": [],
   "source": [
    "# создадим функцию для применения для каждого региона\n",
    "def income_distribution (predictions_valid, target_valid, bootstrap_samples, count_points):\n",
    "    state = np.random.RandomState(12345)\n",
    "    # Счетчик, который будет считать вероятность убытков в регионе\n",
    "    count = 0 \n",
    "    # Переменная, в которой будут храниться все значения выручек для 1000 выборок\n",
    "    values = [] \n",
    "    # создаем 1000 выборок\n",
    "    for i in range(bootstrap_samples): \n",
    "        # у целевого признака сбрасываем индексы и выбираем нужное количество скважин\n",
    "        target_subsample = target_valid.reset_index(drop=True).sample(count_points, replace=True, random_state=state)\n",
    "        \n",
    "        # выбираем строки, соответствующие отобранным строкам в целевом признаке\n",
    "        probs_subsample = predictions_valid[target_subsample.index]\n",
    "        \n",
    "        # считаем прибыль для отобранных строк, но только для нужного количества скважин\n",
    "        rev = revenue(target_subsample, probs_subsample, development_count) - development_budget\n",
    "        \n",
    "        # добавляем прибыль в переменную values\n",
    "        values.append(rev)\n",
    "        \n",
    "        # Если прибыль отрицательная, то увеличиваем счетчик\n",
    "        if rev < 0:\n",
    "            count += 1\n",
    "\n",
    "    values = pd.Series(values)\n",
    "    \n",
    "    #посчитаем и выведем среднюю прибыль\n",
    "    mean = values.mean()\n",
    "    print(\"Средняя прибыль:\", mean, 'млн рублей')\n",
    "    \n",
    "    lower = values.quantile(0.025)\n",
    "    print('lower', lower)\n",
    "    \n",
    "    # посчитаем 95-% доверительный интервал\n",
    "    confidence_interval = st.t.interval(0.95, len(values)-1, values.mean(), np.std(values, ddof=1) / np.sqrt(np.size(values)))\n",
    "    print(\"95%-ый доверительный интервал:\", confidence_interval)\n",
    "    \n",
    "    pvalue = 1. * count / bootstrap_samples\n",
    "    if pvalue < losses_probability:\n",
    "        print(\"Вероятность убытков равна {:.2%} и является меньше допустимой, регион подходит по критериям.\".format(pvalue))\n",
    "    else:\n",
    "        print(\"Вероятность убытков равна {:.2%} и является больше допустимой, регион не подходит по критериям.\".format(pvalue))    \n",
    "    \n",
    "    # построим распределение выручки по региону\n",
    "    plt.figure()\n",
    "    _ = plt.hist(values,  bins=100)\n",
    "    \n",
    "    # левая граница доверительного интервала\n",
    "    one_x12, one_y12 = [confidence_interval[0], confidence_interval[0]], [0, 30]\n",
    "    # правая граница доверительного интервала\n",
    "    two_x12, two_y12 = [confidence_interval[1],confidence_interval[1]], [0, 30]\n",
    "    plt.title('Гистограмма распределения прибыли')\n",
    "    plt.xlabel('Прибыль в млн. рублей')\n",
    "    plt.plot(one_x12, one_y12, two_x12, two_y12, marker = 'o')"
   ]
  },
  {
   "cell_type": "code",
   "execution_count": 27,
   "metadata": {
    "scrolled": false
   },
   "outputs": [
    {
     "name": "stdout",
     "output_type": "stream",
     "text": [
      "Для первого региона при случайном выборе 500 скважин получаются следующие показатели:\n",
      "Средняя прибыль: 425.9385269105927 млн рублей\n",
      "lower -102.09009483793594\n",
      "95%-ый доверительный интервал: (408.7322070686989, 443.1448467524865)\n",
      "Вероятность убытков равна 6.00% и является больше допустимой, регион не подходит по критериям.\n"
     ]
    },
    {
     "data": {
      "image/png": "[encoded data removed]",
      "text/plain": [
       "<Figure size 504x504 with 1 Axes>"
      ]
     },
     "metadata": {
      "needs_background": "light"
     },
     "output_type": "display_data"
    }
   ],
   "source": [
    "print('Для первого региона при случайном выборе 500 скважин получаются следующие показатели:') \n",
    "income_distribution(predictions_valid_0, target_valid_0, bootstrap_samples, count_points)"
   ]
  },
  {
   "cell_type": "code",
   "execution_count": 24,
   "metadata": {},
   "outputs": [
    {
     "name": "stdout",
     "output_type": "stream",
     "text": [
      "Для второго региона при случайном выборе 500 скважин получаются следующие показатели:\n",
      "Средняя прибыль: 515.2227734432902 млн рублей\n",
      "95%-ый доверительный интервал: (501.62147617632206, 528.8240707102583)\n",
      "Вероятность убытков равна 1.00% и является меньше допустимой, регион подходит по критериям.\n"
     ]
    },
    {
     "data": {
      "image/png": "[encoded data removed]",
      "text/plain": [
       "<Figure size 504x504 with 1 Axes>"
      ]
     },
     "metadata": {
      "needs_background": "light"
     },
     "output_type": "display_data"
    }
   ],
   "source": [
    "print('Для второго региона при случайном выборе 500 скважин получаются следующие показатели:') \n",
    "income_distribution(predictions_valid_1, target_valid_1, bootstrap_samples, count_points)"
   ]
  },
  {
   "cell_type": "code",
   "execution_count": 25,
   "metadata": {
    "scrolled": false
   },
   "outputs": [
    {
     "name": "stdout",
     "output_type": "stream",
     "text": [
      "Для третьего региона при случайном выборе 500 скважин получаются следующие показатели:\n",
      "Средняя прибыль: 435.00836278275585 млн рублей\n",
      "95%-ый доверительный интервал: (417.4535520413581, 452.5631735241536)\n",
      "Вероятность убытков равна 6.40% и является больше допустимой, регион не подходит по критериям.\n"
     ]
    },
    {
     "data": {
      "image/png": "[encoded data removed]",
      "text/plain": [
       "<Figure size 504x504 with 1 Axes>"
      ]
     },
     "metadata": {
      "needs_background": "light"
     },
     "output_type": "display_data"
    }
   ],
   "source": [
    "print('Для третьего региона при случайном выборе 500 скважин получаются следующие показатели:')\n",
    "income_distribution(predictions_valid_2, target_valid_2, bootstrap_samples, count_points)"
   ]
  },
  {
   "cell_type": "markdown",
   "metadata": {},
   "source": [
    "## Вывод"
   ]
  },
  {
   "cell_type": "markdown",
   "metadata": {},
   "source": [
    "Проанализировав данные, можно сделать следующие выводы:\n",
    "- прибыль с 200 выбранных лучших скважин для региона 1 - 3320.826 млн. руб., для региона 2 - 2415.087 млн. руб., для региона 3 - 2710.350 млн. руб. Однако такие результаты мы можем получить при условии того, что при разведке региона исследованы все точки, а по условиям задачи при разведке региона исследуют только 500 точек, из которых с помощью машинного обучения выбирают 200 лучших для разработки.\n",
    "- При случайном выборе 500 скважин для проведения разведки, потенциальная прибыль падает в среднем в 5-6 раз (1-й регион с 3.3 млрд рублей до 0.425 млрд рублей, 2-й регион с 2.4 млрд. до 0.515 млрд., 3-й регион с 2.7 млрд. до 0.435 млрд.) по сравнению с ситуацией, если бы мы проводили разведку для всего объема скважин, что повлекло бы увеличение зактрат;\n",
    "- Согласно расчитанной средней прибыли, все регионы являются прибыльными, средняя прибыль составляет: 1-й регион 0.42 млрд рублей, 2-й регион, 0.51 млрд. рублей, 3-й регион 0.435 млрд. рублей;\n",
    "- 1-ый и 3-й регионы обладают очень высокой вероятностью убытков (6 и 6.4 % соответственно), поэтому не проходят по условиям задачи (вероятность убытков должна быть меньше 2,5 %). Также эта ситуация хорошо описывается 95-% доврительным интервалом. Левая граница, которая отделяет 2.5 % данных для 1-го и 3-го регионов принимает отрицательное значение, что говорит о том, что более 2.5 % выборок имеют отрицательную прибыль;\n",
    "- 2-й регион показал максимальные показатели. Он обладает наибольшей средней прибылью, а также единственный регион, который соответствует условию по минимальной вероятности убытков (левая граница 95-% доверительного интервала - положительная).  Поэтому  заказчику предлагается бурить скважины во 2-м регионе."
   ]
  }
 ],
 "metadata": {
  "ExecuteTimeLog": [
   {
    "duration": 2106,
    "start_time": "2022-03-14T12:01:55.616Z"
   },
   {
    "duration": 508,
    "start_time": "2022-03-14T12:02:01.228Z"
   },
   {
    "duration": 55,
    "start_time": "2022-03-14T12:02:43.498Z"
   },
   {
    "duration": 144,
    "start_time": "2022-03-14T12:03:56.879Z"
   },
   {
    "duration": 93,
    "start_time": "2022-03-14T12:06:36.867Z"
   },
   {
    "duration": 208,
    "start_time": "2022-03-14T12:06:49.258Z"
   },
   {
    "duration": 189,
    "start_time": "2022-03-14T12:07:09.592Z"
   },
   {
    "duration": 599,
    "start_time": "2022-03-14T12:09:28.247Z"
   },
   {
    "duration": 453,
    "start_time": "2022-03-14T12:09:41.957Z"
   },
   {
    "duration": 446,
    "start_time": "2022-03-14T12:09:48.855Z"
   },
   {
    "duration": 19,
    "start_time": "2022-03-14T12:13:33.198Z"
   },
   {
    "duration": 19,
    "start_time": "2022-03-14T12:13:51.477Z"
   },
   {
    "duration": 231,
    "start_time": "2022-03-14T12:15:50.535Z"
   },
   {
    "duration": 485,
    "start_time": "2022-03-14T12:16:38.975Z"
   },
   {
    "duration": 7,
    "start_time": "2022-03-14T12:21:04.971Z"
   },
   {
    "duration": 106,
    "start_time": "2022-03-14T12:22:53.082Z"
   },
   {
    "duration": 36,
    "start_time": "2022-03-14T12:23:30.879Z"
   },
   {
    "duration": 90,
    "start_time": "2022-03-14T12:24:19.775Z"
   },
   {
    "duration": 89,
    "start_time": "2022-03-14T12:24:49.300Z"
   },
   {
    "duration": 119,
    "start_time": "2022-03-14T12:25:04.468Z"
   },
   {
    "duration": 5,
    "start_time": "2022-03-14T12:32:56.425Z"
   },
   {
    "duration": 698,
    "start_time": "2022-03-14T12:33:56.945Z"
   },
   {
    "duration": 249,
    "start_time": "2022-03-14T12:34:27.425Z"
   },
   {
    "duration": 8,
    "start_time": "2022-03-14T12:37:06.886Z"
   },
   {
    "duration": 5,
    "start_time": "2022-03-14T12:49:52.190Z"
   },
   {
    "duration": 255,
    "start_time": "2022-03-14T12:49:53.232Z"
   },
   {
    "duration": 9,
    "start_time": "2022-03-14T12:49:59.136Z"
   },
   {
    "duration": 5,
    "start_time": "2022-03-14T12:58:03.319Z"
   },
   {
    "duration": 6,
    "start_time": "2022-03-14T13:07:22.870Z"
   },
   {
    "duration": 5,
    "start_time": "2022-03-14T13:14:36.620Z"
   },
   {
    "duration": 23,
    "start_time": "2022-03-14T13:15:40.583Z"
   },
   {
    "duration": 25,
    "start_time": "2022-03-14T13:16:56.898Z"
   },
   {
    "duration": 5,
    "start_time": "2022-03-14T13:20:41.449Z"
   },
   {
    "duration": 7,
    "start_time": "2022-03-14T13:22:15.296Z"
   },
   {
    "duration": 12,
    "start_time": "2022-03-14T13:28:30.608Z"
   },
   {
    "duration": 8086,
    "start_time": "2022-03-14T13:29:59.914Z"
   },
   {
    "duration": 115,
    "start_time": "2022-03-14T13:31:22.252Z"
   },
   {
    "duration": 118,
    "start_time": "2022-03-14T13:31:30.553Z"
   },
   {
    "duration": 6170,
    "start_time": "2022-03-14T13:31:42.713Z"
   },
   {
    "duration": 10163,
    "start_time": "2022-03-14T13:31:53.413Z"
   },
   {
    "duration": 7039,
    "start_time": "2022-03-14T13:32:50.064Z"
   },
   {
    "duration": 6271,
    "start_time": "2022-03-14T13:33:45.308Z"
   },
   {
    "duration": 6718,
    "start_time": "2022-03-14T13:35:42.311Z"
   },
   {
    "duration": 9862,
    "start_time": "2022-03-14T13:36:13.950Z"
   },
   {
    "duration": 7656,
    "start_time": "2022-03-14T13:36:32.849Z"
   },
   {
    "duration": 7361,
    "start_time": "2022-03-14T13:36:55.996Z"
   },
   {
    "duration": 12,
    "start_time": "2022-03-14T13:39:56.720Z"
   },
   {
    "duration": 9910,
    "start_time": "2022-03-14T13:39:59.920Z"
   },
   {
    "duration": 9375,
    "start_time": "2022-03-14T13:40:42.373Z"
   },
   {
    "duration": 10116,
    "start_time": "2022-03-14T13:40:58.038Z"
   },
   {
    "duration": 9,
    "start_time": "2022-03-14T13:45:48.849Z"
   },
   {
    "duration": 527,
    "start_time": "2022-03-14T13:45:48.861Z"
   },
   {
    "duration": 41,
    "start_time": "2022-03-14T13:45:49.392Z"
   },
   {
    "duration": 218,
    "start_time": "2022-03-14T13:45:49.435Z"
   },
   {
    "duration": 594,
    "start_time": "2022-03-14T13:45:49.656Z"
   },
   {
    "duration": 641,
    "start_time": "2022-03-14T13:45:50.254Z"
   },
   {
    "duration": 652,
    "start_time": "2022-03-14T13:45:50.899Z"
   },
   {
    "duration": 266,
    "start_time": "2022-03-14T13:45:51.554Z"
   },
   {
    "duration": 23,
    "start_time": "2022-03-14T13:45:51.824Z"
   },
   {
    "duration": 37,
    "start_time": "2022-03-14T13:45:51.850Z"
   },
   {
    "duration": 9,
    "start_time": "2022-03-14T13:45:51.934Z"
   },
   {
    "duration": 133,
    "start_time": "2022-03-14T13:45:52.282Z"
   },
   {
    "duration": 122,
    "start_time": "2022-03-14T13:45:52.502Z"
   },
   {
    "duration": 5,
    "start_time": "2022-03-14T13:45:52.868Z"
   },
   {
    "duration": 303,
    "start_time": "2022-03-14T13:45:53.080Z"
   },
   {
    "duration": 7,
    "start_time": "2022-03-14T13:45:53.489Z"
   },
   {
    "duration": 4,
    "start_time": "2022-03-14T13:45:55.995Z"
   },
   {
    "duration": 5,
    "start_time": "2022-03-14T13:46:02.260Z"
   },
   {
    "duration": 16,
    "start_time": "2022-03-14T14:03:43.936Z"
   },
   {
    "duration": 7565,
    "start_time": "2022-03-14T14:03:44.931Z"
   },
   {
    "duration": 12,
    "start_time": "2022-03-14T14:04:59.169Z"
   },
   {
    "duration": 6756,
    "start_time": "2022-03-14T14:04:59.886Z"
   },
   {
    "duration": 11,
    "start_time": "2022-03-14T14:05:17.108Z"
   },
   {
    "duration": 7787,
    "start_time": "2022-03-14T14:05:17.675Z"
   },
   {
    "duration": 18,
    "start_time": "2022-03-14T14:08:37.548Z"
   },
   {
    "duration": 8835,
    "start_time": "2022-03-14T14:08:44.181Z"
   },
   {
    "duration": 11,
    "start_time": "2022-03-14T14:25:00.046Z"
   },
   {
    "duration": 6532,
    "start_time": "2022-03-14T14:25:00.847Z"
   },
   {
    "duration": 8646,
    "start_time": "2022-03-14T14:25:07.382Z"
   },
   {
    "duration": 7878,
    "start_time": "2022-03-14T14:25:16.031Z"
   },
   {
    "duration": 15,
    "start_time": "2022-03-14T14:26:39.459Z"
   },
   {
    "duration": 7113,
    "start_time": "2022-03-14T14:26:40.635Z"
   },
   {
    "duration": 12,
    "start_time": "2022-03-14T14:27:06.514Z"
   },
   {
    "duration": 6283,
    "start_time": "2022-03-14T14:27:07.163Z"
   },
   {
    "duration": 11,
    "start_time": "2022-03-14T14:27:49.034Z"
   },
   {
    "duration": 8080,
    "start_time": "2022-03-14T14:27:51.184Z"
   },
   {
    "duration": 17,
    "start_time": "2022-03-14T14:29:15.948Z"
   },
   {
    "duration": 8616,
    "start_time": "2022-03-14T14:29:16.838Z"
   },
   {
    "duration": 6698,
    "start_time": "2022-03-14T14:29:25.458Z"
   },
   {
    "duration": 6705,
    "start_time": "2022-03-14T14:29:32.160Z"
   },
   {
    "duration": 11,
    "start_time": "2022-03-14T14:29:38.874Z"
   },
   {
    "duration": 6380,
    "start_time": "2022-03-14T14:29:39.582Z"
   },
   {
    "duration": 6462,
    "start_time": "2022-03-14T14:29:45.965Z"
   },
   {
    "duration": 13,
    "start_time": "2022-03-14T14:30:01.917Z"
   },
   {
    "duration": 7917,
    "start_time": "2022-03-14T14:30:01.935Z"
   },
   {
    "duration": 7861,
    "start_time": "2022-03-14T14:30:09.855Z"
   },
   {
    "duration": 7680,
    "start_time": "2022-03-14T14:30:17.718Z"
   },
   {
    "duration": 4,
    "start_time": "2022-03-14T14:43:42.886Z"
   },
   {
    "duration": 16,
    "start_time": "2022-03-14T14:54:20.176Z"
   },
   {
    "duration": 6775,
    "start_time": "2022-03-14T14:54:46.176Z"
   },
   {
    "duration": 6871,
    "start_time": "2022-03-14T14:55:01.264Z"
   },
   {
    "duration": 6354,
    "start_time": "2022-03-14T14:55:16.120Z"
   },
   {
    "duration": 6749,
    "start_time": "2022-03-14T14:55:42.588Z"
   },
   {
    "duration": 6998,
    "start_time": "2022-03-14T14:55:49.340Z"
   },
   {
    "duration": 6,
    "start_time": "2022-03-14T14:58:37.652Z"
   },
   {
    "duration": 7,
    "start_time": "2022-03-14T15:00:44.704Z"
   },
   {
    "duration": 7,
    "start_time": "2022-03-14T15:00:58.103Z"
   },
   {
    "duration": 6,
    "start_time": "2022-03-14T15:02:13.406Z"
   },
   {
    "duration": 489,
    "start_time": "2022-03-14T15:14:11.957Z"
   },
   {
    "duration": 497,
    "start_time": "2022-03-14T15:14:22.392Z"
   },
   {
    "duration": 591,
    "start_time": "2022-03-14T15:14:55.090Z"
   },
   {
    "duration": 5,
    "start_time": "2022-03-14T15:29:21.839Z"
   },
   {
    "duration": 498,
    "start_time": "2022-03-14T15:29:21.847Z"
   },
   {
    "duration": 52,
    "start_time": "2022-03-14T15:29:22.348Z"
   },
   {
    "duration": 241,
    "start_time": "2022-03-14T15:29:22.403Z"
   },
   {
    "duration": 153,
    "start_time": "2022-03-14T15:29:22.647Z"
   },
   {
    "duration": 533,
    "start_time": "2022-03-14T15:29:22.802Z"
   },
   {
    "duration": 484,
    "start_time": "2022-03-14T15:29:23.337Z"
   },
   {
    "duration": 510,
    "start_time": "2022-03-14T15:29:23.824Z"
   },
   {
    "duration": 19,
    "start_time": "2022-03-14T15:29:24.338Z"
   },
   {
    "duration": 21,
    "start_time": "2022-03-14T15:29:24.360Z"
   },
   {
    "duration": 8,
    "start_time": "2022-03-14T15:29:24.383Z"
   },
   {
    "duration": 127,
    "start_time": "2022-03-14T15:29:24.393Z"
   },
   {
    "duration": 243,
    "start_time": "2022-03-14T15:29:24.523Z"
   },
   {
    "duration": 49,
    "start_time": "2022-03-14T15:29:24.768Z"
   },
   {
    "duration": 260,
    "start_time": "2022-03-14T15:29:24.820Z"
   },
   {
    "duration": 99,
    "start_time": "2022-03-14T15:29:25.083Z"
   },
   {
    "duration": 97,
    "start_time": "2022-03-14T15:29:25.185Z"
   },
   {
    "duration": 7,
    "start_time": "2022-03-14T15:29:25.285Z"
   },
   {
    "duration": 8,
    "start_time": "2022-03-14T15:29:25.294Z"
   },
   {
    "duration": 27,
    "start_time": "2022-03-14T15:29:25.305Z"
   },
   {
    "duration": 5,
    "start_time": "2022-03-14T15:29:25.334Z"
   },
   {
    "duration": 40,
    "start_time": "2022-03-14T15:29:25.341Z"
   },
   {
    "duration": 6452,
    "start_time": "2022-03-14T15:29:25.384Z"
   },
   {
    "duration": 6472,
    "start_time": "2022-03-14T15:29:31.838Z"
   },
   {
    "duration": 6399,
    "start_time": "2022-03-14T15:29:38.312Z"
   },
   {
    "duration": 388,
    "start_time": "2022-03-14T15:36:08.321Z"
   },
   {
    "duration": 1666,
    "start_time": "2022-03-14T17:26:15.080Z"
   },
   {
    "duration": 399,
    "start_time": "2022-03-14T17:26:16.748Z"
   },
   {
    "duration": 29,
    "start_time": "2022-03-14T17:26:17.149Z"
   },
   {
    "duration": 117,
    "start_time": "2022-03-14T17:26:17.180Z"
   },
   {
    "duration": 121,
    "start_time": "2022-03-14T17:26:17.299Z"
   },
   {
    "duration": 390,
    "start_time": "2022-03-14T17:26:17.422Z"
   },
   {
    "duration": 386,
    "start_time": "2022-03-14T17:26:17.814Z"
   },
   {
    "duration": 395,
    "start_time": "2022-03-14T17:26:18.203Z"
   },
   {
    "duration": 13,
    "start_time": "2022-03-14T17:26:18.600Z"
   },
   {
    "duration": 12,
    "start_time": "2022-03-14T17:26:18.615Z"
   },
   {
    "duration": 5,
    "start_time": "2022-03-14T17:26:18.629Z"
   },
   {
    "duration": 97,
    "start_time": "2022-03-14T17:26:18.635Z"
   },
   {
    "duration": 88,
    "start_time": "2022-03-14T17:26:18.733Z"
   },
   {
    "duration": 4,
    "start_time": "2022-03-14T17:26:18.823Z"
   },
   {
    "duration": 139,
    "start_time": "2022-03-14T17:26:18.829Z"
   },
   {
    "duration": 8,
    "start_time": "2022-03-14T17:26:19.060Z"
   },
   {
    "duration": 4,
    "start_time": "2022-03-14T17:26:19.160Z"
   },
   {
    "duration": 6,
    "start_time": "2022-03-14T17:26:19.165Z"
   },
   {
    "duration": 6,
    "start_time": "2022-03-14T17:26:19.173Z"
   },
   {
    "duration": 19,
    "start_time": "2022-03-14T17:26:19.181Z"
   },
   {
    "duration": 3,
    "start_time": "2022-03-14T17:26:19.202Z"
   },
   {
    "duration": 8,
    "start_time": "2022-03-14T17:26:19.207Z"
   },
   {
    "duration": 4061,
    "start_time": "2022-03-14T17:26:19.218Z"
   },
   {
    "duration": 3979,
    "start_time": "2022-03-14T17:26:23.281Z"
   },
   {
    "duration": 3924,
    "start_time": "2022-03-14T17:26:27.263Z"
   },
   {
    "duration": 4,
    "start_time": "2022-03-14T17:27:37.798Z"
   },
   {
    "duration": 385,
    "start_time": "2022-03-14T17:27:37.806Z"
   },
   {
    "duration": 27,
    "start_time": "2022-03-14T17:27:38.193Z"
   },
   {
    "duration": 120,
    "start_time": "2022-03-14T17:27:38.223Z"
   },
   {
    "duration": 124,
    "start_time": "2022-03-14T17:27:38.345Z"
   },
   {
    "duration": 364,
    "start_time": "2022-03-14T17:27:38.470Z"
   },
   {
    "duration": 359,
    "start_time": "2022-03-14T17:27:38.836Z"
   },
   {
    "duration": 355,
    "start_time": "2022-03-14T17:27:39.196Z"
   },
   {
    "duration": 18,
    "start_time": "2022-03-14T17:27:39.552Z"
   },
   {
    "duration": 10,
    "start_time": "2022-03-14T17:27:39.573Z"
   },
   {
    "duration": 5,
    "start_time": "2022-03-14T17:27:39.584Z"
   },
   {
    "duration": 93,
    "start_time": "2022-03-14T17:27:39.591Z"
   },
   {
    "duration": 89,
    "start_time": "2022-03-14T17:27:39.686Z"
   },
   {
    "duration": 4,
    "start_time": "2022-03-14T17:27:39.776Z"
   },
   {
    "duration": 185,
    "start_time": "2022-03-14T17:27:39.781Z"
   },
   {
    "duration": 97,
    "start_time": "2022-03-14T17:27:39.968Z"
   },
   {
    "duration": 96,
    "start_time": "2022-03-14T17:27:40.068Z"
   },
   {
    "duration": 6,
    "start_time": "2022-03-14T17:27:40.166Z"
   },
   {
    "duration": 5,
    "start_time": "2022-03-14T17:27:40.173Z"
   },
   {
    "duration": 22,
    "start_time": "2022-03-14T17:27:40.179Z"
   },
   {
    "duration": 4,
    "start_time": "2022-03-14T17:27:40.203Z"
   },
   {
    "duration": 7,
    "start_time": "2022-03-14T17:27:40.209Z"
   },
   {
    "duration": 3978,
    "start_time": "2022-03-14T17:27:40.218Z"
   },
   {
    "duration": 4082,
    "start_time": "2022-03-14T17:27:44.198Z"
   },
   {
    "duration": 3942,
    "start_time": "2022-03-14T17:27:48.282Z"
   },
   {
    "duration": 19753,
    "start_time": "2022-03-14T17:46:47.122Z"
   },
   {
    "duration": 396,
    "start_time": "2022-03-14T17:47:06.877Z"
   },
   {
    "duration": 205,
    "start_time": "2022-03-14T17:47:07.274Z"
   },
   {
    "duration": 1066,
    "start_time": "2022-03-14T17:47:07.481Z"
   },
   {
    "duration": 302,
    "start_time": "2022-03-14T17:47:08.549Z"
   },
   {
    "duration": 892,
    "start_time": "2022-03-14T17:47:08.853Z"
   },
   {
    "duration": 322,
    "start_time": "2022-03-14T17:47:09.746Z"
   },
   {
    "duration": 845,
    "start_time": "2022-03-14T17:47:10.071Z"
   },
   {
    "duration": 136,
    "start_time": "2022-03-14T17:47:10.918Z"
   },
   {
    "duration": 518,
    "start_time": "2022-03-14T17:47:11.055Z"
   },
   {
    "duration": 105,
    "start_time": "2022-03-14T17:47:11.575Z"
   },
   {
    "duration": 352,
    "start_time": "2022-03-14T17:47:11.681Z"
   },
   {
    "duration": 238,
    "start_time": "2022-03-14T17:47:12.035Z"
   },
   {
    "duration": 186,
    "start_time": "2022-03-14T17:47:12.275Z"
   },
   {
    "duration": 354,
    "start_time": "2022-03-14T17:47:12.463Z"
   },
   {
    "duration": 646,
    "start_time": "2022-03-14T17:47:12.901Z"
   },
   {
    "duration": 543,
    "start_time": "2022-03-14T17:47:13.549Z"
   },
   {
    "duration": 384,
    "start_time": "2022-03-14T17:47:14.094Z"
   },
   {
    "duration": 301,
    "start_time": "2022-03-14T17:47:14.480Z"
   },
   {
    "duration": 428,
    "start_time": "2022-03-14T17:47:14.783Z"
   },
   {
    "duration": 234,
    "start_time": "2022-03-14T17:47:15.214Z"
   },
   {
    "duration": 8,
    "start_time": "2022-03-14T17:47:33.243Z"
   },
   {
    "duration": 3665,
    "start_time": "2022-03-14T17:47:34.021Z"
   },
   {
    "duration": 3587,
    "start_time": "2022-03-14T17:47:37.688Z"
   },
   {
    "duration": 3528,
    "start_time": "2022-03-14T17:47:41.277Z"
   },
   {
    "duration": 7,
    "start_time": "2022-03-14T17:47:58.963Z"
   },
   {
    "duration": 3989,
    "start_time": "2022-03-14T17:47:59.289Z"
   },
   {
    "duration": 3580,
    "start_time": "2022-03-14T17:48:03.280Z"
   },
   {
    "duration": 3855,
    "start_time": "2022-03-14T17:48:06.862Z"
   },
   {
    "duration": 2182,
    "start_time": "2022-03-14T19:34:50.586Z"
   },
   {
    "duration": 495,
    "start_time": "2022-03-14T19:34:52.771Z"
   },
   {
    "duration": 46,
    "start_time": "2022-03-14T19:34:53.269Z"
   },
   {
    "duration": 190,
    "start_time": "2022-03-14T19:34:53.317Z"
   },
   {
    "duration": 161,
    "start_time": "2022-03-14T19:34:53.510Z"
   },
   {
    "duration": 505,
    "start_time": "2022-03-14T19:34:53.674Z"
   },
   {
    "duration": 483,
    "start_time": "2022-03-14T19:34:54.182Z"
   },
   {
    "duration": 504,
    "start_time": "2022-03-14T19:34:54.668Z"
   },
   {
    "duration": 24,
    "start_time": "2022-03-14T19:34:55.175Z"
   },
   {
    "duration": 14,
    "start_time": "2022-03-14T19:34:55.202Z"
   },
   {
    "duration": 6,
    "start_time": "2022-03-14T19:34:55.218Z"
   },
   {
    "duration": 131,
    "start_time": "2022-03-14T19:34:55.226Z"
   },
   {
    "duration": 130,
    "start_time": "2022-03-14T19:34:55.359Z"
   },
   {
    "duration": 5,
    "start_time": "2022-03-14T19:34:55.491Z"
   },
   {
    "duration": 195,
    "start_time": "2022-03-14T19:34:55.498Z"
   },
   {
    "duration": 190,
    "start_time": "2022-03-14T19:34:55.696Z"
   },
   {
    "duration": 4,
    "start_time": "2022-03-14T19:34:55.889Z"
   },
   {
    "duration": 7,
    "start_time": "2022-03-14T19:34:55.896Z"
   },
   {
    "duration": 8,
    "start_time": "2022-03-14T19:34:55.906Z"
   },
   {
    "duration": 26,
    "start_time": "2022-03-14T19:34:55.917Z"
   },
   {
    "duration": 43,
    "start_time": "2022-03-14T19:34:55.945Z"
   },
   {
    "duration": 11,
    "start_time": "2022-03-14T19:34:55.990Z"
   },
   {
    "duration": 6293,
    "start_time": "2022-03-14T19:34:56.005Z"
   },
   {
    "duration": 6343,
    "start_time": "2022-03-14T19:35:02.301Z"
   },
   {
    "duration": 6819,
    "start_time": "2022-03-14T19:35:08.647Z"
   },
   {
    "duration": 12,
    "start_time": "2022-03-14T19:40:21.941Z"
   },
   {
    "duration": 6277,
    "start_time": "2022-03-14T19:40:26.280Z"
   }
  ],
  "kernelspec": {
   "display_name": "Python 3 (ipykernel)",
   "language": "python",
   "name": "python3"
  },
  "language_info": {
   "codemirror_mode": {
    "name": "ipython",
    "version": 3
   },
   "file_extension": ".py",
   "mimetype": "text/x-python",
   "name": "python",
   "nbconvert_exporter": "python",
   "pygments_lexer": "ipython3",
   "version": "3.9.7"
  },
  "toc": {
   "base_numbering": 1,
   "nav_menu": {},
   "number_sections": true,
   "sideBar": true,
   "skip_h1_title": true,
   "title_cell": "Table of Contents",
   "title_sidebar": "Contents",
   "toc_cell": false,
   "toc_position": {},
   "toc_section_display": true,
   "toc_window_display": false
  }
 },
 "nbformat": 4,
 "nbformat_minor": 2
}
